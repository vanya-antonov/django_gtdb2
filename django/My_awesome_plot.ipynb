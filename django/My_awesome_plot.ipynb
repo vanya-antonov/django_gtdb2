{
 "cells": [
  {
   "cell_type": "code",
   "execution_count": 6,
   "metadata": {},
   "outputs": [],
   "source": [
    "import numpy as np"
   ]
  },
  {
   "cell_type": "code",
   "execution_count": 7,
   "metadata": {},
   "outputs": [],
   "source": [
    "from django.db import connection"
   ]
  },
  {
   "cell_type": "code",
   "execution_count": 8,
   "metadata": {},
   "outputs": [],
   "source": [
    "from gtdb2.models import Org\n",
    "from gtdb2.models import Seq\n",
    "from gtdb2.models import Fshift\n",
    "from pprint import pprint\n",
    "\n",
    "from chelatase_db.models import ChelataseFeat\n",
    "from chelatase_db.models import ChelataseSeq\n",
    "from chelatase_db.models import ChelataseOrg\n",
    "#from chelatase_db.models import ChelataseCof"
   ]
  },
  {
   "cell_type": "code",
   "execution_count": null,
   "metadata": {},
   "outputs": [],
   "source": []
  },
  {
   "cell_type": "markdown",
   "metadata": {},
   "source": [
    "# Org"
   ]
  },
  {
   "cell_type": "code",
   "execution_count": 9,
   "metadata": {},
   "outputs": [
    {
     "name": "stdout",
     "output_type": "stream",
     "text": [
      "SELECT `orgs`.`id`, `orgs`.`user_id`, `orgs`.`c_date`, `orgs`.`descr`, `orgs`.`name`, `orgs`.`genus`, `orgs`.`phylum`, `orgs`.`kingdom` FROM `orgs`\n"
     ]
    }
   ],
   "source": [
    "c_org = Org.objects.all()#get(id=86).all()\n",
    "# #['chel_genotype_genes']\n",
    "#c_org.pr\n",
    "print(c_org.query)\n",
    "#print(connection.queries)  \n",
    "#c_org.values_list('genus')"
   ]
  },
  {
   "cell_type": "code",
   "execution_count": null,
   "metadata": {},
   "outputs": [],
   "source": []
  },
  {
   "cell_type": "code",
   "execution_count": 10,
   "metadata": {},
   "outputs": [
    {
     "name": "stdout",
     "output_type": "stream",
     "text": [
      "<QuerySet [<Org: Delftia acidovorans SPH-1>]>\n",
      "Delftia acidovorans SPH-1\n"
     ]
    }
   ],
   "source": [
    "c_org = Org.objects.filter(id=86).all()\n",
    "print(c_org)\n",
    "for i in c_org: print(i)"
   ]
  },
  {
   "cell_type": "code",
   "execution_count": null,
   "metadata": {},
   "outputs": [],
   "source": [
    " "
   ]
  },
  {
   "cell_type": "markdown",
   "metadata": {},
   "source": [
    "# Seq"
   ]
  },
  {
   "cell_type": "code",
   "execution_count": 6,
   "metadata": {},
   "outputs": [
    {
     "name": "stdout",
     "output_type": "stream",
     "text": [
      "NC_010002\n"
     ]
    },
    {
     "data": {
      "text/plain": [
       "'NC_010002.1'"
      ]
     },
     "execution_count": 6,
     "metadata": {},
     "output_type": "execute_result"
    }
   ],
   "source": [
    "c_org = Org.objects.get(id=86)\n",
    "s_org = Seq.objects.get(org=c_org)\n",
    "\n",
    "print(s_org)\n",
    "seq_id = s_org.id\n",
    "seq_id"
   ]
  },
  {
   "cell_type": "code",
   "execution_count": 7,
   "metadata": {},
   "outputs": [
    {
     "data": {
      "text/plain": [
       "<QuerySet [(84, 12, datetime.datetime(2019, 5, 3, 20, 36, 30, tzinfo=<UTC>), None, 'Methanocaldococcus sp. FS406-22', 'Methanocaldococcus', 'Euryarchaeota', 'Archaea'), (85, 12, datetime.datetime(2019, 5, 3, 20, 36, 33, tzinfo=<UTC>), None, 'Methanocaldococcus fervens AG86', 'Methanocaldococcus', 'Euryarchaeota', 'Archaea'), (86, 12, datetime.datetime(2019, 5, 3, 20, 36, 41, tzinfo=<UTC>), None, 'Delftia acidovorans SPH-1', 'Delftia', 'Proteobacteria', 'Bacteria'), (87, 12, datetime.datetime(2019, 5, 3, 20, 38, 11, tzinfo=<UTC>), None, 'Bacillus pseudofirmus OF4', 'Bacillus', 'Firmicutes', 'Bacteria'), (88, 12, datetime.datetime(2019, 5, 3, 20, 38, 19, tzinfo=<UTC>), None, 'Escherichia coli str. K-12 substr. MG1655', 'Escherichia', 'Proteobacteria', 'Bacteria'), (89, 12, datetime.datetime(2019, 5, 3, 20, 38, 30, tzinfo=<UTC>), None, 'Methanococcus voltae A3', 'Methanococcus', 'Euryarchaeota', 'Archaea'), (90, 12, datetime.datetime(2019, 5, 3, 20, 39, 7, tzinfo=<UTC>), None, 'Corynebacterium jeikeium K411', 'Corynebacterium', 'Actinobacteria', 'Bacteria'), (91, 12, datetime.datetime(2019, 5, 3, 20, 39, 12, tzinfo=<UTC>), None, 'Chlamydia muridarum str. Nigg', 'Chlamydia', 'Chlamydiae', 'Bacteria'), (92, 12, datetime.datetime(2019, 5, 3, 20, 39, 16, tzinfo=<UTC>), None, 'Xylella fastidiosa 9a5c', 'Xylella', 'Proteobacteria', 'Bacteria'), (93, 12, datetime.datetime(2019, 5, 3, 20, 39, 21, tzinfo=<UTC>), None, 'Vibrio cholerae O1 biovar El Tor str. N16961', 'Vibrio', 'Proteobacteria', 'Bacteria'), (94, 12, datetime.datetime(2019, 5, 3, 20, 39, 30, tzinfo=<UTC>), None, 'Pseudomonas aeruginosa PAO1', 'Pseudomonas', 'Proteobacteria', 'Bacteria'), (95, 12, datetime.datetime(2019, 5, 3, 20, 41, 39, tzinfo=<UTC>), None, 'Streptococcus pyogenes M1 GAS', 'Streptococcus', 'Firmicutes', 'Bacteria'), (96, 12, datetime.datetime(2019, 5, 3, 20, 41, 44, tzinfo=<UTC>), None, 'Halobacterium salinarum NRC-1', 'Halobacterium', 'Euryarchaeota', 'Archaea'), (97, 12, datetime.datetime(2019, 5, 3, 20, 42, 28, tzinfo=<UTC>), None, 'Neisseria gonorrhoeae FA 1090', 'Neisseria', 'Proteobacteria', 'Bacteria'), (98, 12, datetime.datetime(2019, 5, 3, 20, 42, 33, tzinfo=<UTC>), None, 'Lactococcus lactis subsp. lactis Il1403', 'Lactococcus', 'Firmicutes', 'Bacteria'), (99, 12, datetime.datetime(2019, 5, 3, 20, 42, 40, tzinfo=<UTC>), None, 'Caulobacter crescentus CB15', 'Caulobacter', 'Proteobacteria', 'Bacteria'), (100, 12, datetime.datetime(2019, 5, 3, 20, 42, 49, tzinfo=<UTC>), None, 'Shigella flexneri 2a str. 301', 'Shigella', 'Proteobacteria', 'Bacteria'), (101, 12, datetime.datetime(2019, 5, 3, 20, 42, 59, tzinfo=<UTC>), None, 'Salmonella enterica subsp. enterica serovar Typhimurium str. LT2', 'Salmonella', 'Proteobacteria', 'Bacteria'), (102, 12, datetime.datetime(2019, 5, 3, 20, 43, 12, tzinfo=<UTC>), None, 'Sinorhizobium meliloti 1021', 'Sinorhizobium', 'Proteobacteria', 'Bacteria'), (103, 12, datetime.datetime(2019, 5, 3, 20, 43, 24, tzinfo=<UTC>), None, 'Rickettsia conorii str. Malish 7', 'Rickettsia', 'Proteobacteria', 'Bacteria'), '...(remaining elements truncated)...']>"
      ]
     },
     "execution_count": 7,
     "metadata": {},
     "output_type": "execute_result"
    }
   ],
   "source": [
    "delf = Org.objects.all() #get(id=86)\n",
    "delf.values_list()"
   ]
  },
  {
   "cell_type": "code",
   "execution_count": 8,
   "metadata": {},
   "outputs": [
    {
     "name": "stdout",
     "output_type": "stream",
     "text": [
      "SELECT `orgs`.`id`, `orgs`.`user_id`, `orgs`.`c_date`, `orgs`.`descr`, `orgs`.`name`, `orgs`.`genus`, `orgs`.`phylum`, `orgs`.`kingdom` FROM `orgs` INNER JOIN `org_params` ON (`orgs`.`id` = `org_params`.`parent_id`) WHERE (`org_params`.`name` = chel_num_chld AND `org_params`.`num` > 0.0)\n"
     ]
    }
   ],
   "source": [
    "sub_Org = Org.objects.filter(param_set__name='chel_num_chld', param_set__num__gt=0).all()\n",
    "    \n",
    "print(sub_Org.query)"
   ]
  },
  {
   "cell_type": "code",
   "execution_count": 9,
   "metadata": {},
   "outputs": [
    {
     "name": "stdout",
     "output_type": "stream",
     "text": [
      "Delftia acidovorans SPH-1\n"
     ]
    },
    {
     "data": {
      "text/plain": [
       "AttrDict({'dir_name': 'Delftia_acidovorans_SPH_1', 'source_fn': '/home/ivan/_my/github/django_gtdb2/chelatase_db/data/D_acidovorans.gbk', 'short_name': 'D. acidovorans', 'num_seqs': 1, 'taxonomy': ['Bacteria', 'Proteobacteria', 'Betaproteobacteria', 'Burkholderiales', 'Comamonadaceae', 'Delftia'], 'xref': [{'db_name': 'BioProject', 'ext_id': 'PRJNA224116'}, {'db_name': 'BioSample', 'ext_id': 'SAMN00623041'}, {'db_name': 'Assembly', 'ext_id': 'GCF_000018665.1'}, {'db_name': 'taxon', 'ext_id': '398578'}], 'transl_table': [11], 'seq_rrna_16s': 'AGATCGAACTGTAGAGTTTGATCCTGGCTCAGATTGAACGCTGGCGGCATGCCTTACACATGCAAGTCGAACGGTAACAGGTCTTCGGACGCTGACGAGTGGCGAACGGGTGAGTAATACATCGGAACGTGCCCAGTCGTGGGGGATAACTACTCGAAAGAGTAGCTAATACCGCATACGATCTGAGGATGAAAGCGGGGGACCTTCGGGCCTCGCGCGATTGGAGCGGCCGATGGCAGATTAGGTAGTTGGTGGGATAAAAGCTTACCAAGCCGACGATCTGTAGCTGGTCTGAGAGGACGACCAGCCACACTGGGACTGAGACACGGCCCAGACTCCTACGGGAGGCAGCAGTGGGGAATTTTGGACAATGGGCGAAAGCCTGATCCAGCAATGCCGCGTGCAGGATGAAGGCCTTCGGGTTGTAAACTGCTTTTGTACGGAACGAAAAAGCTTCTCCTAATACGAGAGGCCCATGACGGTACCGTAAGAATAAGCACCGGCTAACTACGTGCCAGCAGCCGCGGTAATACGTAGGGTGCGAGCGTTAATCGGAATTACTGGGCGTAAAGCGTGCGCAGGCGGTTATGTAAGACAGATGTGAAATCCCCGGGCTCAACCTGGGAACTGCATTTGTGACTGCATGGCTAGAGTACGGTAGAGGGGGATGGAATTCCGCGTGTAGCAGTGAAATGCGTAGATATGCGGAGGAACACCGATGGCGAAGGCAATCCCCTGGACCTGTACTGACGCTCATGCACGAAAGCGTGGGGAGCAAACAGGATTAGATACCCTGGTAGTCCACGCCCTAAACGATGTCAACTGGTTGTTGGGAATTAGTTTTCTCAGTAACGAAGCTAACGCGTGAAGTTGACCGCCTGGGGAGTACGGCCGCAAGGTTGAAACTCAAAGGAATTGACGGGGACCCGCACAAGCGGTGGATGATGTGGTTTAATTCGATGCAACGCGAAAAACCTTACCCACCTTTGACATGGCAGGAAGTTTCCAGAGATGGATTCGTGCTCGAAAGAGAACCTGCACACAGGTGCTGCATGGCTGTCGTCAGCTCGTGTCGTGAGATGTTGGGTTAAGTCCCGCAACGAGCGCAACCCTTGTCATTAGTTGCTACATTCAGTTGGGCACTCTAATGAGACTGCCGGTGACAAACCGGAGGAAGGTGGGGATGACGTCAAGTCCTCATGGCCCTTATAGGTGGGGCTACACACGTCATACAATGGCTGGTACAGAGGGTTGCCAACCCGCGAGGGGGAGCTAATCCCATAAAACCAGTCGTAGTCCGGATCGCAGTCTGCAACTCGACTGCGTGAAGTCGGAATCGCTAGTAATCGCGGATCAGCATGCCGCGGTGAATACGTTCCCGGGTCTTGTACACACCGCCCGTCACACCATGGGAGCGGGTCTCGCCAGAAGTAGGTAGCCTAACCGCAAGGAGGGCGCTTACCACGGCGGGGTTCGTGACTGGGGTGAAGTCGTAACAAGGTAGCCGTATCGGAAGGTGCGGCTGGATCACCTCCTTTCTG', 'blastdb_nucl_all': 'orgs/Delftia_acidovorans_SPH_1/blastdb/nucl_all', 'chel_num_chld': 1, 'chel_genotype_genes': '1xcobN, 1xcobT, 1xcobS, 1xfs-chlD', 'kegg_org_code': 'dac'})"
      ]
     },
     "execution_count": 9,
     "metadata": {},
     "output_type": "execute_result"
    }
   ],
   "source": [
    "c_org = ChelataseOrg.objects.get(id=86)\n",
    "#['chel_genotype_genes']\n",
    "print(c_org)\n",
    "c_org.prm\n"
   ]
  },
  {
   "cell_type": "code",
   "execution_count": 10,
   "metadata": {},
   "outputs": [],
   "source": [
    "# feat_set=ChelataseOrg.objects.filter(id=86).all() #\n",
    "# feat_set\n",
    "\n",
    "# chel_genes = ChelataseFeat.objects.filter(seq__org=c_org).all()\n",
    "# chel_genes.values_list()"
   ]
  },
  {
   "cell_type": "markdown",
   "metadata": {},
   "source": [
    "# Feat/Fshift"
   ]
  },
  {
   "cell_type": "code",
   "execution_count": 11,
   "metadata": {},
   "outputs": [],
   "source": [
    "# c_org = Org.objects.get(id=86)  # Берем Delftia acidovorans \n",
    "# print(c_org)\n",
    "# s_org = Seq.objects.get(org=c_org)  #Берем последовательность для Delftia \n",
    "# #print(s_org)\n",
    "# seq_id = s_org.id\n",
    "# chel_sub = ChelataseFshift.objects.filter(feat__param_set__name=\"chel_subunit\", seq_id=sq_id).all()\n",
    "\n",
    "# #print(chel_sub.query)\n",
    "# #print(chel_sub)\n",
    "\n",
    "\n",
    "# for i in chel_sub:\n",
    "#     print(i)\n",
    "#     print(i.start)\n",
    "#     print(i.end)\n",
    "# #NC_010002.1:6395007-6396839(-)"
   ]
  },
  {
   "cell_type": "code",
   "execution_count": 12,
   "metadata": {},
   "outputs": [
    {
     "data": {
      "text/plain": [
       "-1"
      ]
     },
     "execution_count": 12,
     "metadata": {},
     "output_type": "execute_result"
    }
   ],
   "source": [
    "# c_org = Org.objects.get(param_set__name='chel_genotype_genes', id=86)  # Берем Delftia acidovorans \n",
    "# print(c_org,'\\n')\n",
    "# f_org = ChelataseFeat.objects.filter(seq__org=c_org).all()\n",
    "# print(f_org)\n",
    "\n",
    "\n",
    "ch_set = ChelataseFeat.objects.filter(seq__org=86, param_set__name='chel_subunit').all()\n",
    "all_parents = [i.parent_id for i in ch_set if i.parent_id is not None]\n",
    "ch_set_draw = [i for i in ch_set if i.id not in all_parents]\n",
    "f_org = ch_set_draw\n",
    "\n",
    "f_org[1].strand"
   ]
  },
  {
   "cell_type": "code",
   "execution_count": 13,
   "metadata": {},
   "outputs": [
    {
     "name": "stdout",
     "output_type": "stream",
     "text": [
      "DACI_RS29040_fs_DACI_RS29035 Start: 6395007 End: 6396839\n",
      "magnesium chelatase | VWA domain-containing protein\n",
      "\n",
      "DACI_RS29045 Start: 6396835 End: 6400657\n",
      "cobaltochelatase subunit CobN\n",
      "\n",
      "DACI_RS09960 Start: 2178725 End: 2179703\n",
      "aerobic cobaltochelatase subunit CobS\n",
      "\n",
      "DACI_RS09965 Start: 2179692 End: 2181384\n",
      "cobaltochelatase\n",
      "\n"
     ]
    },
    {
     "data": {
      "text/plain": [
       "{'max': 128013.14,\n",
       " 'DACI_RS29040_fs_DACI_RS29035': [{'len': 6396789.044136094,\n",
       "   'start': 49.955863905845916,\n",
       "   'end': 49.97017493672915,\n",
       "   'loc': 49.963019421287534,\n",
       "   'label': 'chlD',\n",
       "   'strand': -1}],\n",
       " 'DACI_RS29045': [{'len': 6400607.02985631,\n",
       "   'start': 49.97014368993683,\n",
       "   'end': 50.0,\n",
       "   'loc': 49.98507184496842,\n",
       "   'label': 'cobN',\n",
       "   'strand': -1}],\n",
       " 'DACI_RS09960': [{'len': 2179685.9804581,\n",
       "   'start': 17.01954190015181,\n",
       "   'end': 17.027181740874415,\n",
       "   'loc': 17.023361820513113,\n",
       "   'label': 'cobS',\n",
       "   'strand': 1}],\n",
       " 'DACI_RS09965': [{'len': 2181366.9729041876,\n",
       "   'start': 17.02709581219553,\n",
       "   'end': 17.040313205347513,\n",
       "   'loc': 17.03370450877152,\n",
       "   'label': 'cobT',\n",
       "   'strand': 1}],\n",
       " 'NC_010002.1:6395696:-1': [{'len': 0.014311030883235893,\n",
       "   'start': 49.955863905845916,\n",
       "   'end': 49.97017493672915,\n",
       "   'loc': 49.963019421287534}]}"
      ]
     },
     "execution_count": 13,
     "metadata": {},
     "output_type": "execute_result"
    }
   ],
   "source": [
    "#print(f_org.query)\n",
    "#f_org.values_list('descr')\n",
    "\n",
    "dict_plot = {'max':10} \n",
    "\n",
    "\n",
    "for i in f_org:\n",
    "    if 'chelatase' in i.descr:\n",
    "        if max(i.end, i.start) > dict_plot['max']:\n",
    "            dict_plot['max'] = max(i.end, i.start)\n",
    "            \n",
    "dict_plot['max']/=50\n",
    "\n",
    "for i in f_org:\n",
    "    #if 'chelatase' in i.descr:\n",
    "        \n",
    "    print(i, 'Start:', i.start, 'End:', i.end)\n",
    "    print(i.descr)\n",
    "    print()\n",
    "    dict_plot[i.name] = [{'len':   i.end-i.start/dict_plot['max'],\n",
    "                          'start': i.start/dict_plot['max'],\n",
    "                          'end':   i.end/dict_plot['max'],\n",
    "                          'loc' : ((i.start+i.end)/2)/dict_plot['max'],\n",
    "                          'label': i.prm.chel_gene,\n",
    "                          'strand': i.strand\n",
    "                         }]\n",
    "\n",
    "            \n",
    "seq = c_org.seq_set.first()\n",
    "fsh_set = Fshift.objects.filter(seq__org=c_org).all()\n",
    "\n",
    "for i in fsh_set:\n",
    "    dict_plot[i.name] = [{'len': (i.end-i.start)/dict_plot['max'],\n",
    "                        'start': i.start/dict_plot['max'],\n",
    "                        'end':   i.end/dict_plot['max'],\n",
    "                        'loc':   ((i.start+i.end)/2)/dict_plot['max']\n",
    "                             }]\n",
    "dict_plot"
   ]
  },
  {
   "cell_type": "code",
   "execution_count": 12,
   "metadata": {},
   "outputs": [
    {
     "ename": "KeyError",
     "evalue": "'DACI_RS09960'",
     "output_type": "error",
     "traceback": [
      "\u001b[0;31m---------------------------------------------------------------------------\u001b[0m",
      "\u001b[0;31mKeyError\u001b[0m                                  Traceback (most recent call last)",
      "\u001b[0;32m<ipython-input-12-e2723a1a9cba>\u001b[0m in \u001b[0;36m<module>\u001b[0;34m\u001b[0m\n\u001b[1;32m      2\u001b[0m \u001b[0;34m\u001b[0m\u001b[0m\n\u001b[1;32m      3\u001b[0m features=[\n\u001b[0;32m----> 4\u001b[0;31m     GraphicFeature(start=dict_plot['DACI_RS09960'][0]['loc'],\n\u001b[0m\u001b[1;32m      5\u001b[0m                    \u001b[0mend\u001b[0m\u001b[0;34m=\u001b[0m\u001b[0mdict_plot\u001b[0m\u001b[0;34m[\u001b[0m\u001b[0;34m'DACI_RS09960'\u001b[0m\u001b[0;34m]\u001b[0m\u001b[0;34m[\u001b[0m\u001b[0;36m0\u001b[0m\u001b[0;34m]\u001b[0m\u001b[0;34m[\u001b[0m\u001b[0;34m'loc'\u001b[0m\u001b[0;34m]\u001b[0m\u001b[0;34m,\u001b[0m\u001b[0;34m\u001b[0m\u001b[0;34m\u001b[0m\u001b[0m\n\u001b[1;32m      6\u001b[0m                    strand=dict_plot['DACI_RS09960'][0]['strand'], color= \"#ccccff\", label=\"DACI_RS09960\"), #Табличка\n",
      "\u001b[0;31mKeyError\u001b[0m: 'DACI_RS09960'"
     ]
    }
   ],
   "source": [
    "from dna_features_viewer import GraphicFeature, GraphicRecord\n",
    "\n",
    "features=[\n",
    "    GraphicFeature(start=dict_plot['DACI_RS09960'][0]['loc'],\n",
    "                   end=dict_plot['DACI_RS09960'][0]['loc'],\n",
    "                   strand=dict_plot['DACI_RS09960'][0]['strand'], color= \"#ccccff\", label=\"DACI_RS09960\"), #Табличка\n",
    "    GraphicFeature(start=dict_plot['DACI_RS09960'][0]['start']-2,\n",
    "                   end=dict_plot['DACI_RS09960'][0]['end']+2,\n",
    "                   strand=dict_plot['DACI_RS09960'][0]['strand'], color= \"#ccccff\",thickness=17, label=dict_plot['DACI_RS09960'][0]['label']),    \n",
    "    \n",
    "\n",
    "    GraphicFeature(start=dict_plot['DACI_RS09965'][0]['loc']-5,\n",
    "                   end=dict_plot['DACI_RS09965'][0]['loc']-5,\n",
    "                   strand=dict_plot['DACI_RS09965'][0]['strand'], color= \"#ccccff\", label=\"DACI_RS09965\"), #Табличка\n",
    "    GraphicFeature(start=dict_plot['DACI_RS09965'][0]['start']-7,\n",
    "                   end=dict_plot['DACI_RS09965'][0]['end']-3,\n",
    "                   strand=dict_plot['DACI_RS09965'][0]['strand'],\n",
    "                   color= \"#ccccff\", label=dict_plot['DACI_RS09965'][0]['label']),    \n",
    "    \n",
    "\n",
    "#     GraphicFeature(start=325, end=328, strand=0, color=\"#ffd700\"),\n",
    "#     GraphicFeature(start=330, end=330, strand=0, color=\"#ffd700\", label=\"about 4M \\n nucleotides\"),\n",
    "#     GraphicFeature(start=332, end=335, strand=0, color=\"#ffd700\"),\n",
    "\n",
    "\n",
    "    GraphicFeature(start=dict_plot['DACI_RS29040_fs_DACI_RS29035'][0]['loc']-1,\n",
    "                   end=dict_plot['DACI_RS29040_fs_DACI_RS29035'][0]['loc']-1,\n",
    "                   strand=dict_plot['DACI_RS29040_fs_DACI_RS29035'][0]['strand'],\n",
    "                   color=\"#cffccc\", label=\"DACI_RS29040\\n DACI_RS29035\"), #Табличка\n",
    "    \n",
    "    #Две судьединицы + fsh\n",
    "    GraphicFeature(start=dict_plot['DACI_RS29040_fs_DACI_RS29035'][0]['start']-5, thickness=14, \n",
    "                   end=dict_plot['DACI_RS29040_fs_DACI_RS29035'][0]['loc']-1,\n",
    "                   strand=dict_plot['DACI_RS09960'][0]['strand'],\n",
    "                   color=\"#cffccc\", label=dict_plot['DACI_RS29040_fs_DACI_RS29035'][0]['label']),\n",
    "    GraphicFeature(start=dict_plot['DACI_RS29040_fs_DACI_RS29035'][0]['loc'],\n",
    "                   end=dict_plot['DACI_RS29040_fs_DACI_RS29035'][0]['loc']+1/5,\n",
    "                   strand=dict_plot['DACI_RS29040_fs_DACI_RS29035'][0]['strand'], color=\"#ffcccc\"),  \n",
    "    GraphicFeature(start=dict_plot['DACI_RS29040_fs_DACI_RS29035'][0]['loc'], thickness=14,\n",
    "                   end=dict_plot['DACI_RS29040_fs_DACI_RS29035'][0]['end'],\n",
    "                   strand=dict_plot['DACI_RS29040_fs_DACI_RS29035'][0]['strand'], color=\"#cffccc\"),    \n",
    "    \n",
    "    \n",
    "    \n",
    "    GraphicFeature(start=dict_plot['DACI_RS29045'][0]['loc']+1,\n",
    "                   end=dict_plot['DACI_RS29045'][0]['loc']+1,\n",
    "                   strand=dict_plot['DACI_RS29045'][0]['strand'],\n",
    "                   color=\"#cffccc\" , label=\"DACI_RS29045\"),    #Табличка\n",
    "    GraphicFeature(start=dict_plot['DACI_RS29045'][0]['start']-1,\n",
    "                   end=dict_plot['DACI_RS29045'][0]['end']+3,\n",
    "                   strand=dict_plot['DACI_RS29045'][0]['strand'],\n",
    "                   color=\"#cffccc\", label=dict_plot['DACI_RS29045'][0]['label']),  #ffcccc  #Правый ген\n",
    "    \n",
    "]\n",
    "record = GraphicRecord(first_index=0.0, sequence_length=55.0, features = features, feature_level_height = 2,)\n",
    "\n",
    "#record.plot_with_bokeh(figure_width=15, figure_height=3)\n",
    "#record.plot()\n",
    "record.plot(figure_width=15, figure_height=3);\n",
    " "
   ]
  },
  {
   "cell_type": "code",
   "execution_count": null,
   "metadata": {},
   "outputs": [],
   "source": [
    " "
   ]
  },
  {
   "cell_type": "code",
   "execution_count": null,
   "metadata": {},
   "outputs": [],
   "source": [
    " "
   ]
  },
  {
   "cell_type": "code",
   "execution_count": null,
   "metadata": {},
   "outputs": [],
   "source": [
    " "
   ]
  },
  {
   "cell_type": "code",
   "execution_count": 7,
   "metadata": {},
   "outputs": [],
   "source": [
    "id_org = 84\n",
    "\n",
    "\n",
    "\n",
    "c_org = Org.objects.get(param_set__name='chel_genotype_genes', id=id_org)  # Берем Delftia acidovorans \n",
    "#print(c_org,'\\n')\n",
    "f_org = ChelataseFeat.objects.filter(seq__org=c_org).all()\n",
    "#print(f_org)\n",
    "\n",
    "\n",
    "ch_set = ChelataseFeat.objects.filter(seq__org=id_org, param_set__name='chel_subunit').all()\n",
    "all_parents = [i.parent_id for i in ch_set if i.parent_id is not None]\n",
    "ch_set_draw = [i for i in ch_set if i.id not in all_parents]\n",
    "f_org = ch_set_draw\n",
    " \n",
    "\n",
    "dict_plot = {'max':10} \n",
    "locs = [0]\n",
    "\n",
    "for i in f_org:\n",
    "    if 'chelatase' in i.descr:\n",
    "        if max(i.end, i.start) > dict_plot['max']:\n",
    "            dict_plot['max'] = max(i.end, i.start)\n",
    "            \n",
    "scale = 50\n",
    "dict_plot['max']/= scale\n",
    "\n",
    "for i in f_org:\n",
    "    #if 'chelatase' in i.descr:\n",
    "    #print(i.type)\n",
    "    #print(i, 'Start:', i.start, 'End:', i.end)\n",
    "    #print(i.descr)\n",
    "    #print()\n",
    "    loc = ((i.start+i.end)/2)/dict_plot['max']\n",
    "    locs.append(loc)\n",
    "    dict_plot[i.name] = [{'len':   i.end-i.start/dict_plot['max'],\n",
    "                          'start': i.start/dict_plot['max'],\n",
    "                          'end':   i.end/dict_plot['max'],\n",
    "                          'loc' : loc,\n",
    "                          'label': i.prm.chel_gene,\n",
    "                          'strand': i.strand,\n",
    "                          'type': \"gene\"\n",
    "                         }]\n",
    "\n",
    "            \n",
    "seq = c_org.seq_set.first()\n",
    "fsh_set = Fshift.objects.filter(seq__org=c_org).all()\n",
    "\n",
    "for i in fsh_set:\n",
    "    loc = ((i.start+i.end)/2)/dict_plot['max']\n",
    "    dict_plot[i.name] = [{'len': (i.end-i.start)/dict_plot['max'],\n",
    "                        'start': i.start/dict_plot['max'],\n",
    "                        'end':   i.end/dict_plot['max'],\n",
    "                        'loc':   loc,\n",
    "                          'type': \"fsh\"\n",
    "                             }]\n",
    "\n",
    "\n",
    "\n",
    "locs  = sorted(locs)\n",
    "\n",
    "\n"
   ]
  },
  {
   "cell_type": "code",
   "execution_count": 8,
   "metadata": {},
   "outputs": [
    {
     "data": {
      "text/plain": [
       "({0: 0,\n",
       "  23.792622820416163: 15,\n",
       "  30: 25,\n",
       "  47.970966050647775: 40,\n",
       "  55: 50,\n",
       "  48.091068966895484: 43.091068966895484,\n",
       "  49.93034814563449: 49.93034814563449},\n",
       " [0.0, 0.0])"
      ]
     },
     "execution_count": 8,
     "metadata": {},
     "output_type": "execute_result"
    }
   ],
   "source": [
    "new_locs = {0:0}\n",
    "tabs = []\n",
    "a, b = 0, 0\n",
    "for i in locs:\n",
    "    b = i\n",
    "    if b-a > 0.3*scale:\n",
    "        #tabs.append( (b-a)/2 )\n",
    "        new_locs[b]=max(new_locs.values())+15  #Сдвигаем \n",
    "        b = max(new_locs.values())+15\n",
    "        a = b\n",
    "        #a = max(new_locs.values())+10\n",
    "        tabs.append( (b-a)/2 )\n",
    "        a = b\n",
    "         \n",
    "        \n",
    "    if b-a < 0.07*scale and b!=0:\n",
    "        new_locs[b]=b-5\n",
    "        a = b-5\n",
    "    else:\n",
    "        new_locs[b]=b\n",
    "        a = b\n",
    "        \n",
    "new_locs , tabs"
   ]
  },
  {
   "cell_type": "code",
   "execution_count": 10,
   "metadata": {},
   "outputs": [
    {
     "name": "stdout",
     "output_type": "stream",
     "text": [
      "max 25519.78\n",
      "MFS40622_RS06240_fs_MFS40622_RS06245 [{'len': 1225180.0689833532, 'start': 47.931016646695234, 'end': 48.010915454600315, 'loc': 47.970966050647775, 'label': 'chlD', 'strand': 1, 'type': 'gene'}]\n",
      "MFS40622_RS06250 [{'len': 1229068.9811691167, 'start': 48.01883088333834, 'end': 48.16330705045263, 'loc': 48.091068966895484, 'label': 'cobN', 'strand': -1, 'type': 'gene'}]\n",
      "MFS40622_RS06440 [{'len': 1275939.1393037087, 'start': 49.86069629126897, 'end': 50.0, 'loc': 49.93034814563449, 'label': 'chlH', 'strand': 1, 'type': 'gene'}]\n",
      "MFS40622_RS03055 [{'len': 608945.2773817015, 'start': 23.72261829843361, 'end': 23.86262734239872, 'loc': 23.792622820416163, 'label': 'cobN', 'strand': -1, 'type': 'gene'}]\n",
      "NC_013887.1:1224254:-1 [{'len': 0.07989880790508383, 'start': 47.931016646695234, 'end': 48.010915454600315, 'loc': 47.970966050647775, 'type': 'fsh'}]\n"
     ]
    },
    {
     "data": {
      "image/png": "[encoded data removed]",
      "text/plain": [
       "<Figure size 1080x216 with 1 Axes>"
      ]
     },
     "metadata": {},
     "output_type": "display_data"
    }
   ],
   "source": [
    "\n",
    "\n",
    "\n",
    "features = []\n",
    "def get_color(gene):\n",
    "    if 'chl' in gene: return '#ffcccc'\n",
    "    else: return \"#ccccff\"\n",
    "for k, v in dict_plot.items():\n",
    "    print(k,v)\n",
    "    if k !='max' and dict_plot[k][0]['type']=='gene':\n",
    "        features.append(\n",
    "            GraphicFeature(start=new_locs[dict_plot[k][0]['loc']],\n",
    "                       end=new_locs[dict_plot[k][0]['loc']],\n",
    "                       strand=dict_plot[k][0]['strand'],\n",
    "                       color= \"#ccccff\", label=k)) #Табличка\n",
    "        features.append(GraphicFeature(start=new_locs[dict_plot[k][0]['loc']]-2,\n",
    "                       end=new_locs[dict_plot[k][0]['loc']]+2,\n",
    "                       strand=dict_plot[k][0]['strand'],\n",
    "                       color= get_color(dict_plot[k][0]['label']),\n",
    "                       thickness=17,\n",
    "                       label=dict_plot[k][0]['label']))\n",
    "        \n",
    "\n",
    "for lo in tabs:  \n",
    "    features.append(\n",
    "    GraphicFeature(start=lo, end=lo+1/4, strand=0, color=\"#ffd700\"))\n",
    "    features.append(\n",
    "    GraphicFeature(start=lo+2/4, end=lo+2/4, strand=0, color=\"#ffd700\", label=\"about 4M \\n nucleotides\"))\n",
    "    features.append(\n",
    "    GraphicFeature(start=lo+3/4, end=lo+4/4, strand=0, color=\"#ffd700\")\n",
    "    )\n",
    "        \n",
    "        \n",
    "        \n",
    "record = GraphicRecord(first_index=0.0, sequence_length=55.0, features = features, feature_level_height = 2,)\n",
    "\n",
    "#record.plot_with_bokeh(figure_width=15, figure_height=3)\n",
    "#record.plot()\n",
    "record.plot(figure_width=15, figure_height=3);\n",
    " "
   ]
  },
  {
   "cell_type": "markdown",
   "metadata": {},
   "source": [
    "# Ready to use"
   ]
  },
  {
   "cell_type": "code",
   "execution_count": 19,
   "metadata": {},
   "outputs": [],
   "source": [
    "from io import StringIO"
   ]
  },
  {
   "cell_type": "code",
   "execution_count": 26,
   "metadata": {},
   "outputs": [
    {
     "data": {
      "text/plain": [
       "'<?xml version=\"1.0\" encoding=\"utf-8\" standalone=\"no\"?>\\n<!DOCTYPE svg PUBLIC \"-//W3C//DTD SVG 1.1//EN\"\\n  \"http://www.w3.org/Graphics/SVG/1.1/DTD/svg11.dtd\">\\n<!-- Created with matplotlib (https://matplotlib.org/) -->\\n<svg height=\"194.158125pt\" version=\"1.1\" viewBox=\"0 0 872.80285 194.158125\" width=\"872.80285pt\" xmlns=\"http://www.w3.org/2000/svg\" xmlns:xlink=\"http://www.w3.org/1999/xlink\">\\n <metadata>\\n  <rdf:RDF xmlns:cc=\"http://creativecommons.org/ns#\" xmlns:dc=\"http://purl.org/dc/elements/1.1/\" xmlns:rdf=\"http://www.w3.org/1999/02/22-rdf-syntax-ns#\">\\n   <cc:Work>\\n    <dc:type rdf:resource=\"http://purl.org/dc/dcmitype/StillImage\"/>\\n    <dc:date>2021-04-26T07:24:36.897401</dc:date>\\n    <dc:format>image/svg+xml</dc:format>\\n    <dc:creator>\\n     <cc:Agent>\\n      <dc:title>Matplotlib v3.3.4, https://matplotlib.org/</dc:title>\\n     </cc:Agent>\\n    </dc:creator>\\n   </cc:Work>\\n  </rdf:RDF>\\n </metadata>\\n <defs>\\n  <style type=\"text/css\">*{stroke-linecap:butt;stroke-linejoin:round;}</style>\\n </defs>\\n <g id=\"figure_1\">\\n  <g id=\"patch_1\">\\n   <path d=\"M 0 194.158125 \\nL 872.80285 194.158125 \\nL 872.80285 0 \\nL 0 0 \\nz\\n\" style=\"fill:none;\"/>\\n  </g>\\n  <g id=\"axes_1\">\\n   <g id=\"line2d_1\">\\n    <path clip-path=\"url(#pe4ac8f2f95)\" d=\"M 28.60285 162.444385 \\nL 865.60285 162.444385 \\n\" style=\"fill:none;stroke:#000000;stroke-linecap:square;stroke-width:1.5;\"/>\\n   </g>\\n   <g id=\"line2d_2\">\\n    <path clip-path=\"url(#pe4ac8f2f95)\" d=\"M 635.277311 84.822193 \\nL 635.277311 131.395508 \\n\" style=\"fill:none;stroke:#000000;stroke-linecap:square;stroke-width:0.5;\"/>\\n   </g>\\n   <g id=\"line2d_3\">\\n    <path clip-path=\"url(#pe4ac8f2f95)\" d=\"M 681.810129 38.248877 \\nL 681.810129 162.444385 \\n\" style=\"fill:none;stroke:#000000;stroke-linecap:square;stroke-width:0.5;\"/>\\n   </g>\\n   <g id=\"line2d_4\">\\n    <path clip-path=\"url(#pe4ac8f2f95)\" d=\"M 784.768343 100.346631 \\nL 784.768343 131.395508 \\n\" style=\"fill:none;stroke:#000000;stroke-linecap:square;stroke-width:0.5;\"/>\\n   </g>\\n   <g id=\"line2d_5\">\\n    <path clip-path=\"url(#pe4ac8f2f95)\" d=\"M 258.92839 100.346631 \\nL 258.92839 131.395508 \\n\" style=\"fill:none;stroke:#000000;stroke-linecap:square;stroke-width:0.5;\"/>\\n   </g>\\n   <g id=\"line2d_6\">\\n    <path clip-path=\"url(#pe4ac8f2f95)\" d=\"M 40.646016 84.822193 \\nL 40.646016 162.444385 \\n\" style=\"fill:none;stroke:#000000;stroke-linecap:square;stroke-width:0.5;\"/>\\n   </g>\\n   <g id=\"line2d_7\">\\n    <path clip-path=\"url(#pe4ac8f2f95)\" d=\"M 40.646016 22.724439 \\nL 40.646016 162.444385 \\n\" style=\"fill:none;stroke:#000000;stroke-linecap:square;stroke-width:0.5;\"/>\\n   </g>\\n   <g id=\"patch_2\">\\n    <path clip-path=\"url(#pe4ac8f2f95)\" d=\"M 605.169397 153.944385 \\nQ 630.177856 153.944385 655.186316 153.944385 \\nL 655.186316 153.944385 \\nQ 660.28577 158.194385 665.385224 162.444385 \\nQ 660.28577 166.694385 655.186316 170.944385 \\nL 655.186316 170.944385 \\nQ 630.177856 170.944385 605.169397 170.944385 \\nL 605.169397 153.944385 \\nz\\n\" style=\"fill:#ffcccc;stroke:#000000;stroke-linecap:round;\"/>\\n   </g>\\n   <g id=\"patch_3\">\\n    <path clip-path=\"url(#pe4ac8f2f95)\" d=\"M 711.918043 139.895508 \\nQ 686.909584 139.895508 661.901124 139.895508 \\nL 661.901124 139.895508 \\nQ 656.80167 135.645508 651.702216 131.395508 \\nQ 656.80167 127.145508 661.901124 122.895508 \\nL 661.901124 122.895508 \\nQ 686.909584 122.895508 711.918043 122.895508 \\nL 711.918043 139.895508 \\nz\\n\" style=\"fill:#ccccff;stroke:#000000;stroke-linecap:round;\"/>\\n   </g>\\n   <g id=\"patch_4\">\\n    <path clip-path=\"url(#pe4ac8f2f95)\" d=\"M 754.660429 153.944385 \\nQ 779.668889 153.944385 804.677348 153.944385 \\nL 804.677348 153.944385 \\nQ 809.776802 158.194385 814.876257 162.444385 \\nQ 809.776802 166.694385 804.677348 170.944385 \\nL 804.677348 170.944385 \\nQ 779.668889 170.944385 754.660429 170.944385 \\nL 754.660429 153.944385 \\nz\\n\" style=\"fill:#ffcccc;stroke:#000000;stroke-linecap:round;\"/>\\n   </g>\\n   <g id=\"patch_5\">\\n    <path clip-path=\"url(#pe4ac8f2f95)\" d=\"M 289.036303 170.944385 \\nQ 264.027844 170.944385 239.019385 170.944385 \\nL 239.019385 170.944385 \\nQ 233.91993 166.694385 228.820476 162.444385 \\nQ 233.91993 158.194385 239.019385 153.944385 \\nL 239.019385 153.944385 \\nQ 264.027844 153.944385 289.036303 153.944385 \\nL 289.036303 170.944385 \\nz\\n\" style=\"fill:#ccccff;stroke:#000000;stroke-linecap:round;\"/>\\n   </g>\\n   <g id=\"patch_6\">\\n    <path clip-path=\"url(#pe4ac8f2f95)\" d=\"M 33.119037 155.444385 \\nQ 34.998944 155.444385 36.878851 155.444385 \\nL 36.878851 155.444385 \\nQ 36.880689 158.944385 36.882526 162.444385 \\nQ 36.880689 165.944385 36.878851 169.444385 \\nL 36.878851 169.444385 \\nQ 34.998944 169.444385 33.119037 169.444385 \\nL 33.119037 155.444385 \\nz\\n\" style=\"fill:#ffd700;stroke:#000000;stroke-linecap:round;\"/>\\n   </g>\\n   <g id=\"patch_7\">\\n    <path clip-path=\"url(#pe4ac8f2f95)\" d=\"M 44.409505 155.444385 \\nQ 46.289412 155.444385 48.169319 155.444385 \\nL 48.169319 155.444385 \\nQ 48.171156 158.944385 48.172994 162.444385 \\nQ 48.171156 165.944385 48.169319 169.444385 \\nL 48.169319 169.444385 \\nQ 46.289412 169.444385 44.409505 169.444385 \\nL 44.409505 155.444385 \\nz\\n\" style=\"fill:#ffd700;stroke:#000000;stroke-linecap:round;\"/>\\n   </g>\\n   <g id=\"patch_8\">\\n    <path clip-path=\"url(#pe4ac8f2f95)\" d=\"M 33.119037 124.395508 \\nQ 34.998944 124.395508 36.878851 124.395508 \\nL 36.878851 124.395508 \\nQ 36.880689 127.895508 36.882526 131.395508 \\nQ 36.880689 134.895508 36.878851 138.395508 \\nL 36.878851 138.395508 \\nQ 34.998944 138.395508 33.119037 138.395508 \\nL 33.119037 124.395508 \\nz\\n\" style=\"fill:#ffd700;stroke:#000000;stroke-linecap:round;\"/>\\n   </g>\\n   <g id=\"patch_9\">\\n    <path clip-path=\"url(#pe4ac8f2f95)\" d=\"M 44.409505 124.395508 \\nQ 46.289412 124.395508 48.169319 124.395508 \\nL 48.169319 124.395508 \\nQ 48.171156 127.895508 48.172994 131.395508 \\nQ 48.171156 134.895508 48.169319 138.395508 \\nL 48.169319 138.395508 \\nQ 46.289412 138.395508 44.409505 138.395508 \\nL 44.409505 124.395508 \\nz\\n\" style=\"fill:#ffd700;stroke:#000000;stroke-linecap:round;\"/>\\n   </g>\\n   <g id=\"patch_10\">\\n    <path clip-path=\"url(#pe4ac8f2f95)\" d=\"M 635.277311 131.395508 \\nQ 635.277311 131.395508 635.277311 131.395508 \\nL 635.277311 131.395508 \\nQ 635.277311 131.395508 635.277311 131.395508 \\nQ 635.277311 131.395508 635.277311 131.395508 \\nL 635.277311 131.395508 \\nQ 635.277311 131.395508 635.277311 131.395508 \\nL 635.277311 131.395508 \\nz\\n\" style=\"fill:#ccccff;stroke:#000000;stroke-linecap:round;\"/>\\n   </g>\\n   <g id=\"patch_11\">\\n    <path clip-path=\"url(#pe4ac8f2f95)\" d=\"M 681.810129 162.444385 \\nQ 681.810129 162.444385 681.810129 162.444385 \\nL 681.810129 162.444385 \\nQ 681.810129 162.444385 681.810129 162.444385 \\nQ 681.810129 162.444385 681.810129 162.444385 \\nL 681.810129 162.444385 \\nQ 681.810129 162.444385 681.810129 162.444385 \\nL 681.810129 162.444385 \\nz\\n\" style=\"fill:#ccccff;stroke:#000000;stroke-linecap:round;\"/>\\n   </g>\\n   <g id=\"patch_12\">\\n    <path clip-path=\"url(#pe4ac8f2f95)\" d=\"M 784.768343 131.395508 \\nQ 784.768343 131.395508 784.768343 131.395508 \\nL 784.768343 131.395508 \\nQ 784.768343 131.395508 784.768343 131.395508 \\nQ 784.768343 131.395508 784.768343 131.395508 \\nL 784.768343 131.395508 \\nQ 784.768343 131.395508 784.768343 131.395508 \\nL 784.768343 131.395508 \\nz\\n\" style=\"fill:#ccccff;stroke:#000000;stroke-linecap:round;\"/>\\n   </g>\\n   <g id=\"patch_13\">\\n    <path clip-path=\"url(#pe4ac8f2f95)\" d=\"M 258.92839 131.395508 \\nQ 258.92839 131.395508 258.92839 131.395508 \\nL 258.92839 131.395508 \\nQ 258.92839 131.395508 258.92839 131.395508 \\nQ 258.92839 131.395508 258.92839 131.395508 \\nL 258.92839 131.395508 \\nQ 258.92839 131.395508 258.92839 131.395508 \\nL 258.92839 131.395508 \\nz\\n\" style=\"fill:#ccccff;stroke:#000000;stroke-linecap:round;\"/>\\n   </g>\\n   <g id=\"patch_14\">\\n    <path clip-path=\"url(#pe4ac8f2f95)\" d=\"M 40.646016 162.444385 \\nQ 40.646016 162.444385 40.646016 162.444385 \\nL 40.646016 162.444385 \\nQ 40.646016 162.444385 40.646016 162.444385 \\nQ 40.646016 162.444385 40.646016 162.444385 \\nL 40.646016 162.444385 \\nQ 40.646016 162.444385 40.646016 162.444385 \\nL 40.646016 162.444385 \\nz\\n\" style=\"fill:#ffd700;stroke:#000000;stroke-linecap:round;\"/>\\n   </g>\\n   <g id=\"patch_15\">\\n    <path clip-path=\"url(#pe4ac8f2f95)\" d=\"M 40.646016 162.444385 \\nQ 40.646016 162.444385 40.646016 162.444385 \\nL 40.646016 162.444385 \\nQ 40.646016 162.444385 40.646016 162.444385 \\nQ 40.646016 162.444385 40.646016 162.444385 \\nL 40.646016 162.444385 \\nQ 40.646016 162.444385 40.646016 162.444385 \\nL 40.646016 162.444385 \\nz\\n\" style=\"fill:#ffd700;stroke:#000000;stroke-linecap:round;\"/>\\n   </g>\\n   <g id=\"matplotlib.axis_1\">\\n    <g id=\"xtick_1\">\\n     <g id=\"line2d_8\">\\n      <defs>\\n       <path d=\"M 0 0 \\nL 0 3.5 \\n\" id=\"m30e79f1cd6\" style=\"stroke:#808080;stroke-width:0.8;\"/>\\n      </defs>\\n      <g>\\n       <use style=\"fill:#808080;stroke:#808080;stroke-width:0.8;\" x=\"40.646016\" xlink:href=\"#m30e79f1cd6\" y=\"170.28\"/>\\n      </g>\\n     </g>\\n     <g id=\"text_1\">\\n      <!-- 0 -->\\n      <g style=\"fill:#808080;\" transform=\"translate(37.464766 184.878438)scale(0.1 -0.1)\">\\n       <defs>\\n        <path d=\"M 31.78125 66.40625 \\nQ 24.171875 66.40625 20.328125 58.90625 \\nQ 16.5 51.421875 16.5 36.375 \\nQ 16.5 21.390625 20.328125 13.890625 \\nQ 24.171875 6.390625 31.78125 6.390625 \\nQ 39.453125 6.390625 43.28125 13.890625 \\nQ 47.125 21.390625 47.125 36.375 \\nQ 47.125 51.421875 43.28125 58.90625 \\nQ 39.453125 66.40625 31.78125 66.40625 \\nz\\nM 31.78125 74.21875 \\nQ 44.046875 74.21875 50.515625 64.515625 \\nQ 56.984375 54.828125 56.984375 36.375 \\nQ 56.984375 17.96875 50.515625 8.265625 \\nQ 44.046875 -1.421875 31.78125 -1.421875 \\nQ 19.53125 -1.421875 13.0625 8.265625 \\nQ 6.59375 17.96875 6.59375 36.375 \\nQ 6.59375 54.828125 13.0625 64.515625 \\nQ 19.53125 74.21875 31.78125 74.21875 \\nz\\n\" id=\"DejaVuSans-48\"/>\\n       </defs>\\n       <use xlink:href=\"#DejaVuSans-48\"/>\\n      </g>\\n     </g>\\n    </g>\\n    <g id=\"xtick_2\">\\n     <g id=\"line2d_9\">\\n      <g>\\n       <use style=\"fill:#808080;stroke:#808080;stroke-width:0.8;\" x=\"130.969757\" xlink:href=\"#m30e79f1cd6\" y=\"170.28\"/>\\n      </g>\\n     </g>\\n     <g id=\"text_2\">\\n      <!-- 6 -->\\n      <g style=\"fill:#808080;\" transform=\"translate(127.788507 184.878438)scale(0.1 -0.1)\">\\n       <defs>\\n        <path d=\"M 33.015625 40.375 \\nQ 26.375 40.375 22.484375 35.828125 \\nQ 18.609375 31.296875 18.609375 23.390625 \\nQ 18.609375 15.53125 22.484375 10.953125 \\nQ 26.375 6.390625 33.015625 6.390625 \\nQ 39.65625 6.390625 43.53125 10.953125 \\nQ 47.40625 15.53125 47.40625 23.390625 \\nQ 47.40625 31.296875 43.53125 35.828125 \\nQ 39.65625 40.375 33.015625 40.375 \\nz\\nM 52.59375 71.296875 \\nL 52.59375 62.3125 \\nQ 48.875 64.0625 45.09375 64.984375 \\nQ 41.3125 65.921875 37.59375 65.921875 \\nQ 27.828125 65.921875 22.671875 59.328125 \\nQ 17.53125 52.734375 16.796875 39.40625 \\nQ 19.671875 43.65625 24.015625 45.921875 \\nQ 28.375 48.1875 33.59375 48.1875 \\nQ 44.578125 48.1875 50.953125 41.515625 \\nQ 57.328125 34.859375 57.328125 23.390625 \\nQ 57.328125 12.15625 50.6875 5.359375 \\nQ 44.046875 -1.421875 33.015625 -1.421875 \\nQ 20.359375 -1.421875 13.671875 8.265625 \\nQ 6.984375 17.96875 6.984375 36.375 \\nQ 6.984375 53.65625 15.1875 63.9375 \\nQ 23.390625 74.21875 37.203125 74.21875 \\nQ 40.921875 74.21875 44.703125 73.484375 \\nQ 48.484375 72.75 52.59375 71.296875 \\nz\\n\" id=\"DejaVuSans-54\"/>\\n       </defs>\\n       <use xlink:href=\"#DejaVuSans-54\"/>\\n      </g>\\n     </g>\\n    </g>\\n    <g id=\"xtick_3\">\\n     <g id=\"line2d_10\">\\n      <g>\\n       <use style=\"fill:#808080;stroke:#808080;stroke-width:0.8;\" x=\"221.293498\" xlink:href=\"#m30e79f1cd6\" y=\"170.28\"/>\\n      </g>\\n     </g>\\n     <g id=\"text_3\">\\n      <!-- 12 -->\\n      <g style=\"fill:#808080;\" transform=\"translate(214.930998 184.878438)scale(0.1 -0.1)\">\\n       <defs>\\n        <path d=\"M 12.40625 8.296875 \\nL 28.515625 8.296875 \\nL 28.515625 63.921875 \\nL 10.984375 60.40625 \\nL 10.984375 69.390625 \\nL 28.421875 72.90625 \\nL 38.28125 72.90625 \\nL 38.28125 8.296875 \\nL 54.390625 8.296875 \\nL 54.390625 0 \\nL 12.40625 0 \\nz\\n\" id=\"DejaVuSans-49\"/>\\n        <path d=\"M 19.1875 8.296875 \\nL 53.609375 8.296875 \\nL 53.609375 0 \\nL 7.328125 0 \\nL 7.328125 8.296875 \\nQ 12.9375 14.109375 22.625 23.890625 \\nQ 32.328125 33.6875 34.8125 36.53125 \\nQ 39.546875 41.84375 41.421875 45.53125 \\nQ 43.3125 49.21875 43.3125 52.78125 \\nQ 43.3125 58.59375 39.234375 62.25 \\nQ 35.15625 65.921875 28.609375 65.921875 \\nQ 23.96875 65.921875 18.8125 64.3125 \\nQ 13.671875 62.703125 7.8125 59.421875 \\nL 7.8125 69.390625 \\nQ 13.765625 71.78125 18.9375 73 \\nQ 24.125 74.21875 28.421875 74.21875 \\nQ 39.75 74.21875 46.484375 68.546875 \\nQ 53.21875 62.890625 53.21875 53.421875 \\nQ 53.21875 48.921875 51.53125 44.890625 \\nQ 49.859375 40.875 45.40625 35.40625 \\nQ 44.1875 33.984375 37.640625 27.21875 \\nQ 31.109375 20.453125 19.1875 8.296875 \\nz\\n\" id=\"DejaVuSans-50\"/>\\n       </defs>\\n       <use xlink:href=\"#DejaVuSans-49\"/>\\n       <use x=\"63.623047\" xlink:href=\"#DejaVuSans-50\"/>\\n      </g>\\n     </g>\\n    </g>\\n    <g id=\"xtick_4\">\\n     <g id=\"line2d_11\">\\n      <g>\\n       <use style=\"fill:#808080;stroke:#808080;stroke-width:0.8;\" x=\"311.617239\" xlink:href=\"#m30e79f1cd6\" y=\"170.28\"/>\\n      </g>\\n     </g>\\n     <g id=\"text_4\">\\n      <!-- 18 -->\\n      <g style=\"fill:#808080;\" transform=\"translate(305.254739 184.878438)scale(0.1 -0.1)\">\\n       <defs>\\n        <path d=\"M 31.78125 34.625 \\nQ 24.75 34.625 20.71875 30.859375 \\nQ 16.703125 27.09375 16.703125 20.515625 \\nQ 16.703125 13.921875 20.71875 10.15625 \\nQ 24.75 6.390625 31.78125 6.390625 \\nQ 38.8125 6.390625 42.859375 10.171875 \\nQ 46.921875 13.96875 46.921875 20.515625 \\nQ 46.921875 27.09375 42.890625 30.859375 \\nQ 38.875 34.625 31.78125 34.625 \\nz\\nM 21.921875 38.8125 \\nQ 15.578125 40.375 12.03125 44.71875 \\nQ 8.5 49.078125 8.5 55.328125 \\nQ 8.5 64.0625 14.71875 69.140625 \\nQ 20.953125 74.21875 31.78125 74.21875 \\nQ 42.671875 74.21875 48.875 69.140625 \\nQ 55.078125 64.0625 55.078125 55.328125 \\nQ 55.078125 49.078125 51.53125 44.71875 \\nQ 48 40.375 41.703125 38.8125 \\nQ 48.828125 37.15625 52.796875 32.3125 \\nQ 56.78125 27.484375 56.78125 20.515625 \\nQ 56.78125 9.90625 50.3125 4.234375 \\nQ 43.84375 -1.421875 31.78125 -1.421875 \\nQ 19.734375 -1.421875 13.25 4.234375 \\nQ 6.78125 9.90625 6.78125 20.515625 \\nQ 6.78125 27.484375 10.78125 32.3125 \\nQ 14.796875 37.15625 21.921875 38.8125 \\nz\\nM 18.3125 54.390625 \\nQ 18.3125 48.734375 21.84375 45.5625 \\nQ 25.390625 42.390625 31.78125 42.390625 \\nQ 38.140625 42.390625 41.71875 45.5625 \\nQ 45.3125 48.734375 45.3125 54.390625 \\nQ 45.3125 60.0625 41.71875 63.234375 \\nQ 38.140625 66.40625 31.78125 66.40625 \\nQ 25.390625 66.40625 21.84375 63.234375 \\nQ 18.3125 60.0625 18.3125 54.390625 \\nz\\n\" id=\"DejaVuSans-56\"/>\\n       </defs>\\n       <use xlink:href=\"#DejaVuSans-49\"/>\\n       <use x=\"63.623047\" xlink:href=\"#DejaVuSans-56\"/>\\n      </g>\\n     </g>\\n    </g>\\n    <g id=\"xtick_5\">\\n     <g id=\"line2d_12\">\\n      <g>\\n       <use style=\"fill:#808080;stroke:#808080;stroke-width:0.8;\" x=\"401.94098\" xlink:href=\"#m30e79f1cd6\" y=\"170.28\"/>\\n      </g>\\n     </g>\\n     <g id=\"text_5\">\\n      <!-- 24 -->\\n      <g style=\"fill:#808080;\" transform=\"translate(395.57848 184.878438)scale(0.1 -0.1)\">\\n       <defs>\\n        <path d=\"M 37.796875 64.3125 \\nL 12.890625 25.390625 \\nL 37.796875 25.390625 \\nz\\nM 35.203125 72.90625 \\nL 47.609375 72.90625 \\nL 47.609375 25.390625 \\nL 58.015625 25.390625 \\nL 58.015625 17.1875 \\nL 47.609375 17.1875 \\nL 47.609375 0 \\nL 37.796875 0 \\nL 37.796875 17.1875 \\nL 4.890625 17.1875 \\nL 4.890625 26.703125 \\nz\\n\" id=\"DejaVuSans-52\"/>\\n       </defs>\\n       <use xlink:href=\"#DejaVuSans-50\"/>\\n       <use x=\"63.623047\" xlink:href=\"#DejaVuSans-52\"/>\\n      </g>\\n     </g>\\n    </g>\\n    <g id=\"xtick_6\">\\n     <g id=\"line2d_13\">\\n      <g>\\n       <use style=\"fill:#808080;stroke:#808080;stroke-width:0.8;\" x=\"492.264721\" xlink:href=\"#m30e79f1cd6\" y=\"170.28\"/>\\n      </g>\\n     </g>\\n     <g id=\"text_6\">\\n      <!-- 30 -->\\n      <g style=\"fill:#808080;\" transform=\"translate(485.902221 184.878438)scale(0.1 -0.1)\">\\n       <defs>\\n        <path d=\"M 40.578125 39.3125 \\nQ 47.65625 37.796875 51.625 33 \\nQ 55.609375 28.21875 55.609375 21.1875 \\nQ 55.609375 10.40625 48.1875 4.484375 \\nQ 40.765625 -1.421875 27.09375 -1.421875 \\nQ 22.515625 -1.421875 17.65625 -0.515625 \\nQ 12.796875 0.390625 7.625 2.203125 \\nL 7.625 11.71875 \\nQ 11.71875 9.328125 16.59375 8.109375 \\nQ 21.484375 6.890625 26.8125 6.890625 \\nQ 36.078125 6.890625 40.9375 10.546875 \\nQ 45.796875 14.203125 45.796875 21.1875 \\nQ 45.796875 27.640625 41.28125 31.265625 \\nQ 36.765625 34.90625 28.71875 34.90625 \\nL 20.21875 34.90625 \\nL 20.21875 43.015625 \\nL 29.109375 43.015625 \\nQ 36.375 43.015625 40.234375 45.921875 \\nQ 44.09375 48.828125 44.09375 54.296875 \\nQ 44.09375 59.90625 40.109375 62.90625 \\nQ 36.140625 65.921875 28.71875 65.921875 \\nQ 24.65625 65.921875 20.015625 65.03125 \\nQ 15.375 64.15625 9.8125 62.3125 \\nL 9.8125 71.09375 \\nQ 15.4375 72.65625 20.34375 73.4375 \\nQ 25.25 74.21875 29.59375 74.21875 \\nQ 40.828125 74.21875 47.359375 69.109375 \\nQ 53.90625 64.015625 53.90625 55.328125 \\nQ 53.90625 49.265625 50.4375 45.09375 \\nQ 46.96875 40.921875 40.578125 39.3125 \\nz\\n\" id=\"DejaVuSans-51\"/>\\n       </defs>\\n       <use xlink:href=\"#DejaVuSans-51\"/>\\n       <use x=\"63.623047\" xlink:href=\"#DejaVuSans-48\"/>\\n      </g>\\n     </g>\\n    </g>\\n    <g id=\"xtick_7\">\\n     <g id=\"line2d_14\">\\n      <g>\\n       <use style=\"fill:#808080;stroke:#808080;stroke-width:0.8;\" x=\"582.588462\" xlink:href=\"#m30e79f1cd6\" y=\"170.28\"/>\\n      </g>\\n     </g>\\n     <g id=\"text_7\">\\n      <!-- 36 -->\\n      <g style=\"fill:#808080;\" transform=\"translate(576.225962 184.878438)scale(0.1 -0.1)\">\\n       <use xlink:href=\"#DejaVuSans-51\"/>\\n       <use x=\"63.623047\" xlink:href=\"#DejaVuSans-54\"/>\\n      </g>\\n     </g>\\n    </g>\\n    <g id=\"xtick_8\">\\n     <g id=\"line2d_15\">\\n      <g>\\n       <use style=\"fill:#808080;stroke:#808080;stroke-width:0.8;\" x=\"672.912203\" xlink:href=\"#m30e79f1cd6\" y=\"170.28\"/>\\n      </g>\\n     </g>\\n     <g id=\"text_8\">\\n      <!-- 42 -->\\n      <g style=\"fill:#808080;\" transform=\"translate(666.549703 184.878438)scale(0.1 -0.1)\">\\n       <use xlink:href=\"#DejaVuSans-52\"/>\\n       <use x=\"63.623047\" xlink:href=\"#DejaVuSans-50\"/>\\n      </g>\\n     </g>\\n    </g>\\n    <g id=\"xtick_9\">\\n     <g id=\"line2d_16\">\\n      <g>\\n       <use style=\"fill:#808080;stroke:#808080;stroke-width:0.8;\" x=\"763.235944\" xlink:href=\"#m30e79f1cd6\" y=\"170.28\"/>\\n      </g>\\n     </g>\\n     <g id=\"text_9\">\\n      <!-- 48 -->\\n      <g style=\"fill:#808080;\" transform=\"translate(756.873444 184.878438)scale(0.1 -0.1)\">\\n       <use xlink:href=\"#DejaVuSans-52\"/>\\n       <use x=\"63.623047\" xlink:href=\"#DejaVuSans-56\"/>\\n      </g>\\n     </g>\\n    </g>\\n    <g id=\"xtick_10\">\\n     <g id=\"line2d_17\">\\n      <g>\\n       <use style=\"fill:#808080;stroke:#808080;stroke-width:0.8;\" x=\"853.559685\" xlink:href=\"#m30e79f1cd6\" y=\"170.28\"/>\\n      </g>\\n     </g>\\n     <g id=\"text_10\">\\n      <!-- 54 -->\\n      <g style=\"fill:#808080;\" transform=\"translate(847.197185 184.878438)scale(0.1 -0.1)\">\\n       <defs>\\n        <path d=\"M 10.796875 72.90625 \\nL 49.515625 72.90625 \\nL 49.515625 64.59375 \\nL 19.828125 64.59375 \\nL 19.828125 46.734375 \\nQ 21.96875 47.46875 24.109375 47.828125 \\nQ 26.265625 48.1875 28.421875 48.1875 \\nQ 40.625 48.1875 47.75 41.5 \\nQ 54.890625 34.8125 54.890625 23.390625 \\nQ 54.890625 11.625 47.5625 5.09375 \\nQ 40.234375 -1.421875 26.90625 -1.421875 \\nQ 22.3125 -1.421875 17.546875 -0.640625 \\nQ 12.796875 0.140625 7.71875 1.703125 \\nL 7.71875 11.625 \\nQ 12.109375 9.234375 16.796875 8.0625 \\nQ 21.484375 6.890625 26.703125 6.890625 \\nQ 35.15625 6.890625 40.078125 11.328125 \\nQ 45.015625 15.765625 45.015625 23.390625 \\nQ 45.015625 31 40.078125 35.4375 \\nQ 35.15625 39.890625 26.703125 39.890625 \\nQ 22.75 39.890625 18.8125 39.015625 \\nQ 14.890625 38.140625 10.796875 36.28125 \\nz\\n\" id=\"DejaVuSans-53\"/>\\n       </defs>\\n       <use xlink:href=\"#DejaVuSans-53\"/>\\n       <use x=\"63.623047\" xlink:href=\"#DejaVuSans-52\"/>\\n      </g>\\n     </g>\\n    </g>\\n   </g>\\n   <g id=\"text_11\">\\n    <!-- chlD -->\\n    <g transform=\"translate(623.004576 165.479698)scale(0.11 -0.11)\">\\n     <defs>\\n      <path d=\"M 48.78125 52.59375 \\nL 48.78125 44.1875 \\nQ 44.96875 46.296875 41.140625 47.34375 \\nQ 37.3125 48.390625 33.40625 48.390625 \\nQ 24.65625 48.390625 19.8125 42.84375 \\nQ 14.984375 37.3125 14.984375 27.296875 \\nQ 14.984375 17.28125 19.8125 11.734375 \\nQ 24.65625 6.203125 33.40625 6.203125 \\nQ 37.3125 6.203125 41.140625 7.25 \\nQ 44.96875 8.296875 48.78125 10.40625 \\nL 48.78125 2.09375 \\nQ 45.015625 0.34375 40.984375 -0.53125 \\nQ 36.96875 -1.421875 32.421875 -1.421875 \\nQ 20.0625 -1.421875 12.78125 6.34375 \\nQ 5.515625 14.109375 5.515625 27.296875 \\nQ 5.515625 40.671875 12.859375 48.328125 \\nQ 20.21875 56 33.015625 56 \\nQ 37.15625 56 41.109375 55.140625 \\nQ 45.0625 54.296875 48.78125 52.59375 \\nz\\n\" id=\"DejaVuSans-99\"/>\\n      <path d=\"M 54.890625 33.015625 \\nL 54.890625 0 \\nL 45.90625 0 \\nL 45.90625 32.71875 \\nQ 45.90625 40.484375 42.875 44.328125 \\nQ 39.84375 48.1875 33.796875 48.1875 \\nQ 26.515625 48.1875 22.3125 43.546875 \\nQ 18.109375 38.921875 18.109375 30.90625 \\nL 18.109375 0 \\nL 9.078125 0 \\nL 9.078125 75.984375 \\nL 18.109375 75.984375 \\nL 18.109375 46.1875 \\nQ 21.34375 51.125 25.703125 53.5625 \\nQ 30.078125 56 35.796875 56 \\nQ 45.21875 56 50.046875 50.171875 \\nQ 54.890625 44.34375 54.890625 33.015625 \\nz\\n\" id=\"DejaVuSans-104\"/>\\n      <path d=\"M 9.421875 75.984375 \\nL 18.40625 75.984375 \\nL 18.40625 0 \\nL 9.421875 0 \\nz\\n\" id=\"DejaVuSans-108\"/>\\n      <path d=\"M 19.671875 64.796875 \\nL 19.671875 8.109375 \\nL 31.59375 8.109375 \\nQ 46.6875 8.109375 53.6875 14.9375 \\nQ 60.6875 21.78125 60.6875 36.53125 \\nQ 60.6875 51.171875 53.6875 57.984375 \\nQ 46.6875 64.796875 31.59375 64.796875 \\nz\\nM 9.8125 72.90625 \\nL 30.078125 72.90625 \\nQ 51.265625 72.90625 61.171875 64.09375 \\nQ 71.09375 55.28125 71.09375 36.53125 \\nQ 71.09375 17.671875 61.125 8.828125 \\nQ 51.171875 0 30.078125 0 \\nL 9.8125 0 \\nz\\n\" id=\"DejaVuSans-68\"/>\\n     </defs>\\n     <use xlink:href=\"#DejaVuSans-99\"/>\\n     <use x=\"54.980469\" xlink:href=\"#DejaVuSans-104\"/>\\n     <use x=\"118.359375\" xlink:href=\"#DejaVuSans-108\"/>\\n     <use x=\"146.142578\" xlink:href=\"#DejaVuSans-68\"/>\\n    </g>\\n   </g>\\n   <g id=\"text_12\">\\n    <!-- cobN -->\\n    <g transform=\"translate(667.814348 134.430821)scale(0.11 -0.11)\">\\n     <defs>\\n      <path d=\"M 30.609375 48.390625 \\nQ 23.390625 48.390625 19.1875 42.75 \\nQ 14.984375 37.109375 14.984375 27.296875 \\nQ 14.984375 17.484375 19.15625 11.84375 \\nQ 23.34375 6.203125 30.609375 6.203125 \\nQ 37.796875 6.203125 41.984375 11.859375 \\nQ 46.1875 17.53125 46.1875 27.296875 \\nQ 46.1875 37.015625 41.984375 42.703125 \\nQ 37.796875 48.390625 30.609375 48.390625 \\nz\\nM 30.609375 56 \\nQ 42.328125 56 49.015625 48.375 \\nQ 55.71875 40.765625 55.71875 27.296875 \\nQ 55.71875 13.875 49.015625 6.21875 \\nQ 42.328125 -1.421875 30.609375 -1.421875 \\nQ 18.84375 -1.421875 12.171875 6.21875 \\nQ 5.515625 13.875 5.515625 27.296875 \\nQ 5.515625 40.765625 12.171875 48.375 \\nQ 18.84375 56 30.609375 56 \\nz\\n\" id=\"DejaVuSans-111\"/>\\n      <path d=\"M 48.6875 27.296875 \\nQ 48.6875 37.203125 44.609375 42.84375 \\nQ 40.53125 48.484375 33.40625 48.484375 \\nQ 26.265625 48.484375 22.1875 42.84375 \\nQ 18.109375 37.203125 18.109375 27.296875 \\nQ 18.109375 17.390625 22.1875 11.75 \\nQ 26.265625 6.109375 33.40625 6.109375 \\nQ 40.53125 6.109375 44.609375 11.75 \\nQ 48.6875 17.390625 48.6875 27.296875 \\nz\\nM 18.109375 46.390625 \\nQ 20.953125 51.265625 25.265625 53.625 \\nQ 29.59375 56 35.59375 56 \\nQ 45.5625 56 51.78125 48.09375 \\nQ 58.015625 40.1875 58.015625 27.296875 \\nQ 58.015625 14.40625 51.78125 6.484375 \\nQ 45.5625 -1.421875 35.59375 -1.421875 \\nQ 29.59375 -1.421875 25.265625 0.953125 \\nQ 20.953125 3.328125 18.109375 8.203125 \\nL 18.109375 0 \\nL 9.078125 0 \\nL 9.078125 75.984375 \\nL 18.109375 75.984375 \\nz\\n\" id=\"DejaVuSans-98\"/>\\n      <path d=\"M 9.8125 72.90625 \\nL 23.09375 72.90625 \\nL 55.421875 11.921875 \\nL 55.421875 72.90625 \\nL 64.984375 72.90625 \\nL 64.984375 0 \\nL 51.703125 0 \\nL 19.390625 60.984375 \\nL 19.390625 0 \\nL 9.8125 0 \\nz\\n\" id=\"DejaVuSans-78\"/>\\n     </defs>\\n     <use xlink:href=\"#DejaVuSans-99\"/>\\n     <use x=\"54.980469\" xlink:href=\"#DejaVuSans-111\"/>\\n     <use x=\"116.162109\" xlink:href=\"#DejaVuSans-98\"/>\\n     <use x=\"179.638672\" xlink:href=\"#DejaVuSans-78\"/>\\n    </g>\\n   </g>\\n   <g id=\"text_13\">\\n    <!-- chlH -->\\n    <g transform=\"translate(772.594437 165.479698)scale(0.11 -0.11)\">\\n     <defs>\\n      <path d=\"M 9.8125 72.90625 \\nL 19.671875 72.90625 \\nL 19.671875 43.015625 \\nL 55.515625 43.015625 \\nL 55.515625 72.90625 \\nL 65.375 72.90625 \\nL 65.375 0 \\nL 55.515625 0 \\nL 55.515625 34.71875 \\nL 19.671875 34.71875 \\nL 19.671875 0 \\nL 9.8125 0 \\nz\\n\" id=\"DejaVuSans-72\"/>\\n     </defs>\\n     <use xlink:href=\"#DejaVuSans-99\"/>\\n     <use x=\"54.980469\" xlink:href=\"#DejaVuSans-104\"/>\\n     <use x=\"118.359375\" xlink:href=\"#DejaVuSans-108\"/>\\n     <use x=\"146.142578\" xlink:href=\"#DejaVuSans-72\"/>\\n    </g>\\n   </g>\\n   <g id=\"text_14\">\\n    <!-- cobN -->\\n    <g transform=\"translate(244.932608 165.479698)scale(0.11 -0.11)\">\\n     <use xlink:href=\"#DejaVuSans-99\"/>\\n     <use x=\"54.980469\" xlink:href=\"#DejaVuSans-111\"/>\\n     <use x=\"116.162109\" xlink:href=\"#DejaVuSans-98\"/>\\n     <use x=\"179.638672\" xlink:href=\"#DejaVuSans-78\"/>\\n    </g>\\n   </g>\\n   <g id=\"text_15\">\\n    <g id=\"patch_16\">\\n     <path d=\"M 573.300904 99.909896 \\nL 697.253717 99.909896 \\nQ 700.553717 99.909896 700.553717 96.609896 \\nL 700.553717 73.034489 \\nQ 700.553717 69.734489 697.253717 69.734489 \\nL 573.300904 69.734489 \\nQ 570.000904 69.734489 570.000904 73.034489 \\nL 570.000904 96.609896 \\nQ 570.000904 99.909896 573.300904 99.909896 \\nz\\n\" style=\"fill:#e5e5ff;stroke:#808080;stroke-linejoin:miter;\"/>\\n    </g>\\n    <!-- MFS40622_RS06240_f -->\\n    <g transform=\"translate(574.229889 81.392771)scale(0.11 -0.11)\">\\n     <defs>\\n      <path d=\"M 9.8125 72.90625 \\nL 24.515625 72.90625 \\nL 43.109375 23.296875 \\nL 61.8125 72.90625 \\nL 76.515625 72.90625 \\nL 76.515625 0 \\nL 66.890625 0 \\nL 66.890625 64.015625 \\nL 48.09375 14.015625 \\nL 38.1875 14.015625 \\nL 19.390625 64.015625 \\nL 19.390625 0 \\nL 9.8125 0 \\nz\\n\" id=\"DejaVuSans-77\"/>\\n      <path d=\"M 9.8125 72.90625 \\nL 51.703125 72.90625 \\nL 51.703125 64.59375 \\nL 19.671875 64.59375 \\nL 19.671875 43.109375 \\nL 48.578125 43.109375 \\nL 48.578125 34.8125 \\nL 19.671875 34.8125 \\nL 19.671875 0 \\nL 9.8125 0 \\nz\\n\" id=\"DejaVuSans-70\"/>\\n      <path d=\"M 53.515625 70.515625 \\nL 53.515625 60.890625 \\nQ 47.90625 63.578125 42.921875 64.890625 \\nQ 37.9375 66.21875 33.296875 66.21875 \\nQ 25.25 66.21875 20.875 63.09375 \\nQ 16.5 59.96875 16.5 54.203125 \\nQ 16.5 49.359375 19.40625 46.890625 \\nQ 22.3125 44.4375 30.421875 42.921875 \\nL 36.375 41.703125 \\nQ 47.40625 39.59375 52.65625 34.296875 \\nQ 57.90625 29 57.90625 20.125 \\nQ 57.90625 9.515625 50.796875 4.046875 \\nQ 43.703125 -1.421875 29.984375 -1.421875 \\nQ 24.8125 -1.421875 18.96875 -0.25 \\nQ 13.140625 0.921875 6.890625 3.21875 \\nL 6.890625 13.375 \\nQ 12.890625 10.015625 18.65625 8.296875 \\nQ 24.421875 6.59375 29.984375 6.59375 \\nQ 38.421875 6.59375 43.015625 9.90625 \\nQ 47.609375 13.234375 47.609375 19.390625 \\nQ 47.609375 24.75 44.3125 27.78125 \\nQ 41.015625 30.8125 33.5 32.328125 \\nL 27.484375 33.5 \\nQ 16.453125 35.6875 11.515625 40.375 \\nQ 6.59375 45.0625 6.59375 53.421875 \\nQ 6.59375 63.09375 13.40625 68.65625 \\nQ 20.21875 74.21875 32.171875 74.21875 \\nQ 37.3125 74.21875 42.625 73.28125 \\nQ 47.953125 72.359375 53.515625 70.515625 \\nz\\n\" id=\"DejaVuSans-83\"/>\\n      <path d=\"M 50.984375 -16.609375 \\nL 50.984375 -23.578125 \\nL -0.984375 -23.578125 \\nL -0.984375 -16.609375 \\nz\\n\" id=\"DejaVuSans-95\"/>\\n      <path d=\"M 44.390625 34.1875 \\nQ 47.5625 33.109375 50.5625 29.59375 \\nQ 53.5625 26.078125 56.59375 19.921875 \\nL 66.609375 0 \\nL 56 0 \\nL 46.6875 18.703125 \\nQ 43.0625 26.03125 39.671875 28.421875 \\nQ 36.28125 30.8125 30.421875 30.8125 \\nL 19.671875 30.8125 \\nL 19.671875 0 \\nL 9.8125 0 \\nL 9.8125 72.90625 \\nL 32.078125 72.90625 \\nQ 44.578125 72.90625 50.734375 67.671875 \\nQ 56.890625 62.453125 56.890625 51.90625 \\nQ 56.890625 45.015625 53.6875 40.46875 \\nQ 50.484375 35.9375 44.390625 34.1875 \\nz\\nM 19.671875 64.796875 \\nL 19.671875 38.921875 \\nL 32.078125 38.921875 \\nQ 39.203125 38.921875 42.84375 42.21875 \\nQ 46.484375 45.515625 46.484375 51.90625 \\nQ 46.484375 58.296875 42.84375 61.546875 \\nQ 39.203125 64.796875 32.078125 64.796875 \\nz\\n\" id=\"DejaVuSans-82\"/>\\n      <path d=\"M 37.109375 75.984375 \\nL 37.109375 68.5 \\nL 28.515625 68.5 \\nQ 23.6875 68.5 21.796875 66.546875 \\nQ 19.921875 64.59375 19.921875 59.515625 \\nL 19.921875 54.6875 \\nL 34.71875 54.6875 \\nL 34.71875 47.703125 \\nL 19.921875 47.703125 \\nL 19.921875 0 \\nL 10.890625 0 \\nL 10.890625 47.703125 \\nL 2.296875 47.703125 \\nL 2.296875 54.6875 \\nL 10.890625 54.6875 \\nL 10.890625 58.5 \\nQ 10.890625 67.625 15.140625 71.796875 \\nQ 19.390625 75.984375 28.609375 75.984375 \\nz\\n\" id=\"DejaVuSans-102\"/>\\n     </defs>\\n     <use xlink:href=\"#DejaVuSans-77\"/>\\n     <use x=\"86.279297\" xlink:href=\"#DejaVuSans-70\"/>\\n     <use x=\"142.048828\" xlink:href=\"#DejaVuSans-83\"/>\\n     <use x=\"205.525391\" xlink:href=\"#DejaVuSans-52\"/>\\n     <use x=\"269.148438\" xlink:href=\"#DejaVuSans-48\"/>\\n     <use x=\"332.771484\" xlink:href=\"#DejaVuSans-54\"/>\\n     <use x=\"396.394531\" xlink:href=\"#DejaVuSans-50\"/>\\n     <use x=\"460.017578\" xlink:href=\"#DejaVuSans-50\"/>\\n     <use x=\"523.640625\" xlink:href=\"#DejaVuSans-95\"/>\\n     <use x=\"573.640625\" xlink:href=\"#DejaVuSans-82\"/>\\n     <use x=\"643.123047\" xlink:href=\"#DejaVuSans-83\"/>\\n     <use x=\"706.599609\" xlink:href=\"#DejaVuSans-48\"/>\\n     <use x=\"770.222656\" xlink:href=\"#DejaVuSans-54\"/>\\n     <use x=\"833.845703\" xlink:href=\"#DejaVuSans-50\"/>\\n     <use x=\"897.46875\" xlink:href=\"#DejaVuSans-52\"/>\\n     <use x=\"961.091797\" xlink:href=\"#DejaVuSans-48\"/>\\n     <use x=\"1024.714844\" xlink:href=\"#DejaVuSans-95\"/>\\n     <use x=\"1074.714844\" xlink:href=\"#DejaVuSans-102\"/>\\n    </g>\\n    <!-- s_MFS40622_RS06245 -->\\n    <g transform=\"translate(573.300904 94.016302)scale(0.11 -0.11)\">\\n     <defs>\\n      <path d=\"M 44.28125 53.078125 \\nL 44.28125 44.578125 \\nQ 40.484375 46.53125 36.375 47.5 \\nQ 32.28125 48.484375 27.875 48.484375 \\nQ 21.1875 48.484375 17.84375 46.4375 \\nQ 14.5 44.390625 14.5 40.28125 \\nQ 14.5 37.15625 16.890625 35.375 \\nQ 19.28125 33.59375 26.515625 31.984375 \\nL 29.59375 31.296875 \\nQ 39.15625 29.25 43.1875 25.515625 \\nQ 47.21875 21.78125 47.21875 15.09375 \\nQ 47.21875 7.46875 41.1875 3.015625 \\nQ 35.15625 -1.421875 24.609375 -1.421875 \\nQ 20.21875 -1.421875 15.453125 -0.5625 \\nQ 10.6875 0.296875 5.421875 2 \\nL 5.421875 11.28125 \\nQ 10.40625 8.6875 15.234375 7.390625 \\nQ 20.0625 6.109375 24.8125 6.109375 \\nQ 31.15625 6.109375 34.5625 8.28125 \\nQ 37.984375 10.453125 37.984375 14.40625 \\nQ 37.984375 18.0625 35.515625 20.015625 \\nQ 33.0625 21.96875 24.703125 23.78125 \\nL 21.578125 24.515625 \\nQ 13.234375 26.265625 9.515625 29.90625 \\nQ 5.8125 33.546875 5.8125 39.890625 \\nQ 5.8125 47.609375 11.28125 51.796875 \\nQ 16.75 56 26.8125 56 \\nQ 31.78125 56 36.171875 55.265625 \\nQ 40.578125 54.546875 44.28125 53.078125 \\nz\\n\" id=\"DejaVuSans-115\"/>\\n     </defs>\\n     <use xlink:href=\"#DejaVuSans-115\"/>\\n     <use x=\"52.099609\" xlink:href=\"#DejaVuSans-95\"/>\\n     <use x=\"102.099609\" xlink:href=\"#DejaVuSans-77\"/>\\n     <use x=\"188.378906\" xlink:href=\"#DejaVuSans-70\"/>\\n     <use x=\"244.148438\" xlink:href=\"#DejaVuSans-83\"/>\\n     <use x=\"307.625\" xlink:href=\"#DejaVuSans-52\"/>\\n     <use x=\"371.248047\" xlink:href=\"#DejaVuSans-48\"/>\\n     <use x=\"434.871094\" xlink:href=\"#DejaVuSans-54\"/>\\n     <use x=\"498.494141\" xlink:href=\"#DejaVuSans-50\"/>\\n     <use x=\"562.117188\" xlink:href=\"#DejaVuSans-50\"/>\\n     <use x=\"625.740234\" xlink:href=\"#DejaVuSans-95\"/>\\n     <use x=\"675.740234\" xlink:href=\"#DejaVuSans-82\"/>\\n     <use x=\"745.222656\" xlink:href=\"#DejaVuSans-83\"/>\\n     <use x=\"808.699219\" xlink:href=\"#DejaVuSans-48\"/>\\n     <use x=\"872.322266\" xlink:href=\"#DejaVuSans-54\"/>\\n     <use x=\"935.945312\" xlink:href=\"#DejaVuSans-50\"/>\\n     <use x=\"999.568359\" xlink:href=\"#DejaVuSans-52\"/>\\n     <use x=\"1063.191406\" xlink:href=\"#DejaVuSans-53\"/>\\n    </g>\\n   </g>\\n   <g id=\"text_16\">\\n    <g id=\"patch_17\">\\n     <path d=\"M 625.448879 46.927705 \\nL 738.171379 46.927705 \\nQ 741.471379 46.927705 741.471379 43.627705 \\nL 741.471379 32.870049 \\nQ 741.471379 29.570049 738.171379 29.570049 \\nL 625.448879 29.570049 \\nQ 622.148879 29.570049 622.148879 32.870049 \\nL 622.148879 43.627705 \\nQ 622.148879 46.927705 625.448879 46.927705 \\nz\\n\" style=\"fill:#e5e5ff;stroke:#808080;stroke-linejoin:miter;\"/>\\n    </g>\\n    <!-- MFS40622_RS06250 -->\\n    <g transform=\"translate(625.448879 41.034111)scale(0.11 -0.11)\">\\n     <use xlink:href=\"#DejaVuSans-77\"/>\\n     <use x=\"86.279297\" xlink:href=\"#DejaVuSans-70\"/>\\n     <use x=\"142.048828\" xlink:href=\"#DejaVuSans-83\"/>\\n     <use x=\"205.525391\" xlink:href=\"#DejaVuSans-52\"/>\\n     <use x=\"269.148438\" xlink:href=\"#DejaVuSans-48\"/>\\n     <use x=\"332.771484\" xlink:href=\"#DejaVuSans-54\"/>\\n     <use x=\"396.394531\" xlink:href=\"#DejaVuSans-50\"/>\\n     <use x=\"460.017578\" xlink:href=\"#DejaVuSans-50\"/>\\n     <use x=\"523.640625\" xlink:href=\"#DejaVuSans-95\"/>\\n     <use x=\"573.640625\" xlink:href=\"#DejaVuSans-82\"/>\\n     <use x=\"643.123047\" xlink:href=\"#DejaVuSans-83\"/>\\n     <use x=\"706.599609\" xlink:href=\"#DejaVuSans-48\"/>\\n     <use x=\"770.222656\" xlink:href=\"#DejaVuSans-54\"/>\\n     <use x=\"833.845703\" xlink:href=\"#DejaVuSans-50\"/>\\n     <use x=\"897.46875\" xlink:href=\"#DejaVuSans-53\"/>\\n     <use x=\"961.091797\" xlink:href=\"#DejaVuSans-48\"/>\\n    </g>\\n   </g>\\n   <g id=\"text_17\">\\n    <g id=\"patch_18\">\\n     <path d=\"M 728.407093 109.025459 \\nL 841.129593 109.025459 \\nQ 844.429593 109.025459 844.429593 105.725459 \\nL 844.429593 94.967803 \\nQ 844.429593 91.667803 841.129593 91.667803 \\nL 728.407093 91.667803 \\nQ 725.107093 91.667803 725.107093 94.967803 \\nL 725.107093 105.725459 \\nQ 725.107093 109.025459 728.407093 109.025459 \\nz\\n\" style=\"fill:#e5e5ff;stroke:#808080;stroke-linejoin:miter;\"/>\\n    </g>\\n    <!-- MFS40622_RS06440 -->\\n    <g transform=\"translate(728.407093 103.131866)scale(0.11 -0.11)\">\\n     <use xlink:href=\"#DejaVuSans-77\"/>\\n     <use x=\"86.279297\" xlink:href=\"#DejaVuSans-70\"/>\\n     <use x=\"142.048828\" xlink:href=\"#DejaVuSans-83\"/>\\n     <use x=\"205.525391\" xlink:href=\"#DejaVuSans-52\"/>\\n     <use x=\"269.148438\" xlink:href=\"#DejaVuSans-48\"/>\\n     <use x=\"332.771484\" xlink:href=\"#DejaVuSans-54\"/>\\n     <use x=\"396.394531\" xlink:href=\"#DejaVuSans-50\"/>\\n     <use x=\"460.017578\" xlink:href=\"#DejaVuSans-50\"/>\\n     <use x=\"523.640625\" xlink:href=\"#DejaVuSans-95\"/>\\n     <use x=\"573.640625\" xlink:href=\"#DejaVuSans-82\"/>\\n     <use x=\"643.123047\" xlink:href=\"#DejaVuSans-83\"/>\\n     <use x=\"706.599609\" xlink:href=\"#DejaVuSans-48\"/>\\n     <use x=\"770.222656\" xlink:href=\"#DejaVuSans-54\"/>\\n     <use x=\"833.845703\" xlink:href=\"#DejaVuSans-52\"/>\\n     <use x=\"897.46875\" xlink:href=\"#DejaVuSans-52\"/>\\n     <use x=\"961.091797\" xlink:href=\"#DejaVuSans-48\"/>\\n    </g>\\n   </g>\\n   <g id=\"text_18\">\\n    <g id=\"patch_19\">\\n     <path d=\"M 202.56714 109.025459 \\nL 315.28964 109.025459 \\nQ 318.58964 109.025459 318.58964 105.725459 \\nL 318.58964 94.967803 \\nQ 318.58964 91.667803 315.28964 91.667803 \\nL 202.56714 91.667803 \\nQ 199.26714 91.667803 199.26714 94.967803 \\nL 199.26714 105.725459 \\nQ 199.26714 109.025459 202.56714 109.025459 \\nz\\n\" style=\"fill:#e5e5ff;stroke:#808080;stroke-linejoin:miter;\"/>\\n    </g>\\n    <!-- MFS40622_RS03055 -->\\n    <g transform=\"translate(202.56714 103.131866)scale(0.11 -0.11)\">\\n     <use xlink:href=\"#DejaVuSans-77\"/>\\n     <use x=\"86.279297\" xlink:href=\"#DejaVuSans-70\"/>\\n     <use x=\"142.048828\" xlink:href=\"#DejaVuSans-83\"/>\\n     <use x=\"205.525391\" xlink:href=\"#DejaVuSans-52\"/>\\n     <use x=\"269.148438\" xlink:href=\"#DejaVuSans-48\"/>\\n     <use x=\"332.771484\" xlink:href=\"#DejaVuSans-54\"/>\\n     <use x=\"396.394531\" xlink:href=\"#DejaVuSans-50\"/>\\n     <use x=\"460.017578\" xlink:href=\"#DejaVuSans-50\"/>\\n     <use x=\"523.640625\" xlink:href=\"#DejaVuSans-95\"/>\\n     <use x=\"573.640625\" xlink:href=\"#DejaVuSans-82\"/>\\n     <use x=\"643.123047\" xlink:href=\"#DejaVuSans-83\"/>\\n     <use x=\"706.599609\" xlink:href=\"#DejaVuSans-48\"/>\\n     <use x=\"770.222656\" xlink:href=\"#DejaVuSans-51\"/>\\n     <use x=\"833.845703\" xlink:href=\"#DejaVuSans-48\"/>\\n     <use x=\"897.46875\" xlink:href=\"#DejaVuSans-53\"/>\\n     <use x=\"961.091797\" xlink:href=\"#DejaVuSans-53\"/>\\n    </g>\\n   </g>\\n   <g id=\"text_19\">\\n    <g id=\"patch_20\">\\n     <path d=\"M 7.2 99.603958 \\nL 74.092031 99.603958 \\nQ 77.392031 99.603958 77.392031 96.303958 \\nL 77.392031 73.340427 \\nQ 77.392031 70.040427 74.092031 70.040427 \\nL 7.2 70.040427 \\nQ 3.9 70.040427 3.9 73.340427 \\nL 3.9 96.303958 \\nQ 3.9 99.603958 7.2 99.603958 \\nz\\n\" style=\"fill:#fffbe5;stroke:#808080;stroke-linejoin:miter;\"/>\\n    </g>\\n    <!-- about 4M  -->\\n    <g transform=\"translate(13.036016 81.698708)scale(0.11 -0.11)\">\\n     <defs>\\n      <path d=\"M 34.28125 27.484375 \\nQ 23.390625 27.484375 19.1875 25 \\nQ 14.984375 22.515625 14.984375 16.5 \\nQ 14.984375 11.71875 18.140625 8.90625 \\nQ 21.296875 6.109375 26.703125 6.109375 \\nQ 34.1875 6.109375 38.703125 11.40625 \\nQ 43.21875 16.703125 43.21875 25.484375 \\nL 43.21875 27.484375 \\nz\\nM 52.203125 31.203125 \\nL 52.203125 0 \\nL 43.21875 0 \\nL 43.21875 8.296875 \\nQ 40.140625 3.328125 35.546875 0.953125 \\nQ 30.953125 -1.421875 24.3125 -1.421875 \\nQ 15.921875 -1.421875 10.953125 3.296875 \\nQ 6 8.015625 6 15.921875 \\nQ 6 25.140625 12.171875 29.828125 \\nQ 18.359375 34.515625 30.609375 34.515625 \\nL 43.21875 34.515625 \\nL 43.21875 35.40625 \\nQ 43.21875 41.609375 39.140625 45 \\nQ 35.0625 48.390625 27.6875 48.390625 \\nQ 23 48.390625 18.546875 47.265625 \\nQ 14.109375 46.140625 10.015625 43.890625 \\nL 10.015625 52.203125 \\nQ 14.9375 54.109375 19.578125 55.046875 \\nQ 24.21875 56 28.609375 56 \\nQ 40.484375 56 46.34375 49.84375 \\nQ 52.203125 43.703125 52.203125 31.203125 \\nz\\n\" id=\"DejaVuSans-97\"/>\\n      <path d=\"M 8.5 21.578125 \\nL 8.5 54.6875 \\nL 17.484375 54.6875 \\nL 17.484375 21.921875 \\nQ 17.484375 14.15625 20.5 10.265625 \\nQ 23.53125 6.390625 29.59375 6.390625 \\nQ 36.859375 6.390625 41.078125 11.03125 \\nQ 45.3125 15.671875 45.3125 23.6875 \\nL 45.3125 54.6875 \\nL 54.296875 54.6875 \\nL 54.296875 0 \\nL 45.3125 0 \\nL 45.3125 8.40625 \\nQ 42.046875 3.421875 37.71875 1 \\nQ 33.40625 -1.421875 27.6875 -1.421875 \\nQ 18.265625 -1.421875 13.375 4.4375 \\nQ 8.5 10.296875 8.5 21.578125 \\nz\\nM 31.109375 56 \\nz\\n\" id=\"DejaVuSans-117\"/>\\n      <path d=\"M 18.3125 70.21875 \\nL 18.3125 54.6875 \\nL 36.8125 54.6875 \\nL 36.8125 47.703125 \\nL 18.3125 47.703125 \\nL 18.3125 18.015625 \\nQ 18.3125 11.328125 20.140625 9.421875 \\nQ 21.96875 7.515625 27.59375 7.515625 \\nL 36.8125 7.515625 \\nL 36.8125 0 \\nL 27.59375 0 \\nQ 17.1875 0 13.234375 3.875 \\nQ 9.28125 7.765625 9.28125 18.015625 \\nL 9.28125 47.703125 \\nL 2.6875 47.703125 \\nL 2.6875 54.6875 \\nL 9.28125 54.6875 \\nL 9.28125 70.21875 \\nz\\n\" id=\"DejaVuSans-116\"/>\\n      <path id=\"DejaVuSans-32\"/>\\n     </defs>\\n     <use xlink:href=\"#DejaVuSans-97\"/>\\n     <use x=\"61.279297\" xlink:href=\"#DejaVuSans-98\"/>\\n     <use x=\"124.755859\" xlink:href=\"#DejaVuSans-111\"/>\\n     <use x=\"185.9375\" xlink:href=\"#DejaVuSans-117\"/>\\n     <use x=\"249.316406\" xlink:href=\"#DejaVuSans-116\"/>\\n     <use x=\"288.525391\" xlink:href=\"#DejaVuSans-32\"/>\\n     <use x=\"320.3125\" xlink:href=\"#DejaVuSans-52\"/>\\n     <use x=\"383.935547\" xlink:href=\"#DejaVuSans-77\"/>\\n     <use x=\"470.214844\" xlink:href=\"#DejaVuSans-32\"/>\\n    </g>\\n    <!--  nucleotides -->\\n    <g transform=\"translate(7.2 94.016302)scale(0.11 -0.11)\">\\n     <defs>\\n      <path d=\"M 54.890625 33.015625 \\nL 54.890625 0 \\nL 45.90625 0 \\nL 45.90625 32.71875 \\nQ 45.90625 40.484375 42.875 44.328125 \\nQ 39.84375 48.1875 33.796875 48.1875 \\nQ 26.515625 48.1875 22.3125 43.546875 \\nQ 18.109375 38.921875 18.109375 30.90625 \\nL 18.109375 0 \\nL 9.078125 0 \\nL 9.078125 54.6875 \\nL 18.109375 54.6875 \\nL 18.109375 46.1875 \\nQ 21.34375 51.125 25.703125 53.5625 \\nQ 30.078125 56 35.796875 56 \\nQ 45.21875 56 50.046875 50.171875 \\nQ 54.890625 44.34375 54.890625 33.015625 \\nz\\n\" id=\"DejaVuSans-110\"/>\\n      <path d=\"M 56.203125 29.59375 \\nL 56.203125 25.203125 \\nL 14.890625 25.203125 \\nQ 15.484375 15.921875 20.484375 11.0625 \\nQ 25.484375 6.203125 34.421875 6.203125 \\nQ 39.59375 6.203125 44.453125 7.46875 \\nQ 49.3125 8.734375 54.109375 11.28125 \\nL 54.109375 2.78125 \\nQ 49.265625 0.734375 44.1875 -0.34375 \\nQ 39.109375 -1.421875 33.890625 -1.421875 \\nQ 20.796875 -1.421875 13.15625 6.1875 \\nQ 5.515625 13.8125 5.515625 26.8125 \\nQ 5.515625 40.234375 12.765625 48.109375 \\nQ 20.015625 56 32.328125 56 \\nQ 43.359375 56 49.78125 48.890625 \\nQ 56.203125 41.796875 56.203125 29.59375 \\nz\\nM 47.21875 32.234375 \\nQ 47.125 39.59375 43.09375 43.984375 \\nQ 39.0625 48.390625 32.421875 48.390625 \\nQ 24.90625 48.390625 20.390625 44.140625 \\nQ 15.875 39.890625 15.1875 32.171875 \\nz\\n\" id=\"DejaVuSans-101\"/>\\n      <path d=\"M 9.421875 54.6875 \\nL 18.40625 54.6875 \\nL 18.40625 0 \\nL 9.421875 0 \\nz\\nM 9.421875 75.984375 \\nL 18.40625 75.984375 \\nL 18.40625 64.59375 \\nL 9.421875 64.59375 \\nz\\n\" id=\"DejaVuSans-105\"/>\\n      <path d=\"M 45.40625 46.390625 \\nL 45.40625 75.984375 \\nL 54.390625 75.984375 \\nL 54.390625 0 \\nL 45.40625 0 \\nL 45.40625 8.203125 \\nQ 42.578125 3.328125 38.25 0.953125 \\nQ 33.9375 -1.421875 27.875 -1.421875 \\nQ 17.96875 -1.421875 11.734375 6.484375 \\nQ 5.515625 14.40625 5.515625 27.296875 \\nQ 5.515625 40.1875 11.734375 48.09375 \\nQ 17.96875 56 27.875 56 \\nQ 33.9375 56 38.25 53.625 \\nQ 42.578125 51.265625 45.40625 46.390625 \\nz\\nM 14.796875 27.296875 \\nQ 14.796875 17.390625 18.875 11.75 \\nQ 22.953125 6.109375 30.078125 6.109375 \\nQ 37.203125 6.109375 41.296875 11.75 \\nQ 45.40625 17.390625 45.40625 27.296875 \\nQ 45.40625 37.203125 41.296875 42.84375 \\nQ 37.203125 48.484375 30.078125 48.484375 \\nQ 22.953125 48.484375 18.875 42.84375 \\nQ 14.796875 37.203125 14.796875 27.296875 \\nz\\n\" id=\"DejaVuSans-100\"/>\\n     </defs>\\n     <use xlink:href=\"#DejaVuSans-32\"/>\\n     <use x=\"31.787109\" xlink:href=\"#DejaVuSans-110\"/>\\n     <use x=\"95.166016\" xlink:href=\"#DejaVuSans-117\"/>\\n     <use x=\"158.544922\" xlink:href=\"#DejaVuSans-99\"/>\\n     <use x=\"213.525391\" xlink:href=\"#DejaVuSans-108\"/>\\n     <use x=\"241.308594\" xlink:href=\"#DejaVuSans-101\"/>\\n     <use x=\"302.832031\" xlink:href=\"#DejaVuSans-111\"/>\\n     <use x=\"364.013672\" xlink:href=\"#DejaVuSans-116\"/>\\n     <use x=\"403.222656\" xlink:href=\"#DejaVuSans-105\"/>\\n     <use x=\"431.005859\" xlink:href=\"#DejaVuSans-100\"/>\\n     <use x=\"494.482422\" xlink:href=\"#DejaVuSans-101\"/>\\n     <use x=\"556.005859\" xlink:href=\"#DejaVuSans-115\"/>\\n    </g>\\n   </g>\\n   <g id=\"text_20\">\\n    <g id=\"patch_21\">\\n     <path d=\"M 7.2 37.506204 \\nL 74.092031 37.506204 \\nQ 77.392031 37.506204 77.392031 34.206204 \\nL 77.392031 11.242673 \\nQ 77.392031 7.942673 74.092031 7.942673 \\nL 7.2 7.942673 \\nQ 3.9 7.942673 3.9 11.242673 \\nL 3.9 34.206204 \\nQ 3.9 37.506204 7.2 37.506204 \\nz\\n\" style=\"fill:#fffbe5;stroke:#808080;stroke-linejoin:miter;\"/>\\n    </g>\\n    <!-- about 4M  -->\\n    <g transform=\"translate(13.036016 19.600954)scale(0.11 -0.11)\">\\n     <use xlink:href=\"#DejaVuSans-97\"/>\\n     <use x=\"61.279297\" xlink:href=\"#DejaVuSans-98\"/>\\n     <use x=\"124.755859\" xlink:href=\"#DejaVuSans-111\"/>\\n     <use x=\"185.9375\" xlink:href=\"#DejaVuSans-117\"/>\\n     <use x=\"249.316406\" xlink:href=\"#DejaVuSans-116\"/>\\n     <use x=\"288.525391\" xlink:href=\"#DejaVuSans-32\"/>\\n     <use x=\"320.3125\" xlink:href=\"#DejaVuSans-52\"/>\\n     <use x=\"383.935547\" xlink:href=\"#DejaVuSans-77\"/>\\n     <use x=\"470.214844\" xlink:href=\"#DejaVuSans-32\"/>\\n    </g>\\n    <!--  nucleotides -->\\n    <g transform=\"translate(7.2 31.918548)scale(0.11 -0.11)\">\\n     <use xlink:href=\"#DejaVuSans-32\"/>\\n     <use x=\"31.787109\" xlink:href=\"#DejaVuSans-110\"/>\\n     <use x=\"95.166016\" xlink:href=\"#DejaVuSans-117\"/>\\n     <use x=\"158.544922\" xlink:href=\"#DejaVuSans-99\"/>\\n     <use x=\"213.525391\" xlink:href=\"#DejaVuSans-108\"/>\\n     <use x=\"241.308594\" xlink:href=\"#DejaVuSans-101\"/>\\n     <use x=\"302.832031\" xlink:href=\"#DejaVuSans-111\"/>\\n     <use x=\"364.013672\" xlink:href=\"#DejaVuSans-116\"/>\\n     <use x=\"403.222656\" xlink:href=\"#DejaVuSans-105\"/>\\n     <use x=\"431.005859\" xlink:href=\"#DejaVuSans-100\"/>\\n     <use x=\"494.482422\" xlink:href=\"#DejaVuSans-101\"/>\\n     <use x=\"556.005859\" xlink:href=\"#DejaVuSans-115\"/>\\n    </g>\\n   </g>\\n  </g>\\n </g>\\n <defs>\\n  <clipPath id=\"pe4ac8f2f95\">\\n   <rect height=\"163.08\" width=\"837\" x=\"28.60285\" y=\"7.2\"/>\\n  </clipPath>\\n </defs>\\n</svg>\\n'"
      ]
     },
     "execution_count": 26,
     "metadata": {},
     "output_type": "execute_result"
    },
    {
     "data": {
      "image/png": "[encoded data removed]",
      "text/plain": [
       "<Figure size 1080x216 with 1 Axes>"
      ]
     },
     "metadata": {},
     "output_type": "display_data"
    }
   ],
   "source": [
    "def plot_gen_diagram(self, id_org=84):\n",
    "    id_org = 84\n",
    "    c_org = Org.objects.get(param_set__name='chel_genotype_genes', id=id_org)  # Берем Delftia acidovorans \n",
    "    f_org = ChelataseFeat.objects.filter(seq__org=c_org).all()\n",
    "    \n",
    "    ch_set = ChelataseFeat.objects.filter(seq__org=id_org, param_set__name='chel_subunit').all()\n",
    "    all_parents = [i.parent_id for i in ch_set if i.parent_id is not None]\n",
    "    ch_set_draw = [i for i in ch_set if i.id not in all_parents]\n",
    "    f_org = ch_set_draw\n",
    "\n",
    "    dict_plot = {'max':10} \n",
    "    locs = [0]\n",
    "\n",
    "    for i in f_org:\n",
    "        if 'chelatase' in i.descr:\n",
    "            if max(i.end, i.start) > dict_plot['max']:\n",
    "                dict_plot['max'] = max(i.end, i.start)\n",
    "\n",
    "    scale = 50\n",
    "    dict_plot['max']/= scale\n",
    "\n",
    "    for i in f_org:\n",
    "        loc = ((i.start+i.end)/2)/dict_plot['max']\n",
    "        locs.append(loc)\n",
    "        dict_plot[i.name] = [{'len':   i.end-i.start/dict_plot['max'],\n",
    "                              'start': i.start/dict_plot['max'],\n",
    "                              'end':   i.end/dict_plot['max'],\n",
    "                              'loc' : loc,\n",
    "                              'label': i.prm.chel_gene,\n",
    "                              'strand': i.strand,\n",
    "                              'type': \"gene\"\n",
    "                             }]\n",
    "\n",
    "\n",
    "    seq = c_org.seq_set.first()\n",
    "    fsh_set = Fshift.objects.filter(seq__org=c_org).all()\n",
    "\n",
    "    for i in fsh_set:\n",
    "        loc = ((i.start+i.end)/2)/dict_plot['max']\n",
    "        dict_plot[i.name] = [{'len': (i.end-i.start)/dict_plot['max'],\n",
    "                            'start': i.start/dict_plot['max'],\n",
    "                            'end':   i.end/dict_plot['max'],\n",
    "                            'loc':   loc,\n",
    "                              'type': \"fsh\"\n",
    "                                 }]\n",
    "\n",
    "    locs  = sorted(locs)\n",
    "    new_locs = {0:0}\n",
    "    tabs = []\n",
    "    a, b = 0, 0\n",
    "    for i in locs:\n",
    "        b = i\n",
    "        if b-a > 0.3*scale:\n",
    "            new_locs[b]=max(new_locs.values())+15  #Сдвигаем \n",
    "            b = max(new_locs.values())+15\n",
    "            a = b\n",
    "            tabs.append( (b-a)/2 )\n",
    "            a = b\n",
    "\n",
    "\n",
    "        if b-a < 0.07*scale and b!=0:\n",
    "            new_locs[b]=b-5\n",
    "            a = b-5\n",
    "        else:\n",
    "            new_locs[b]=b\n",
    "            a = b\n",
    "\n",
    "    features = []\n",
    "    def get_color(gene):\n",
    "        if 'chl' in gene: return '#ffcccc'\n",
    "        else: return \"#ccccff\"\n",
    "    for k, v in dict_plot.items():\n",
    "        if k !='max' and dict_plot[k][0]['type']=='gene':\n",
    "            features.append(\n",
    "                GraphicFeature(start=new_locs[dict_plot[k][0]['loc']],\n",
    "                           end=new_locs[dict_plot[k][0]['loc']],\n",
    "                           strand=dict_plot[k][0]['strand'],\n",
    "                           color= \"#ccccff\", label=k)) #Табличка\n",
    "            features.append(GraphicFeature(start=new_locs[dict_plot[k][0]['loc']]-2,\n",
    "                           end=new_locs[dict_plot[k][0]['loc']]+2,\n",
    "                           strand=dict_plot[k][0]['strand'],\n",
    "                           color= get_color(dict_plot[k][0]['label']),\n",
    "                           thickness=17,\n",
    "                           label=dict_plot[k][0]['label']))\n",
    "\n",
    "\n",
    "    for lo in tabs:  \n",
    "        features.append(\n",
    "        GraphicFeature(start=lo, end=lo+1/4, strand=0, color=\"#ffd700\"))\n",
    "        features.append(\n",
    "        GraphicFeature(start=lo+2/4, end=lo+2/4, strand=0, color=\"#ffd700\", label=\"about 4M \\n nucleotides\"))\n",
    "        features.append(\n",
    "        GraphicFeature(start=lo+3/4, end=lo+4/4, strand=0, color=\"#ffd700\")\n",
    "        )\n",
    "\n",
    "    record = GraphicRecord(first_index=0.0, sequence_length=55.0, features = features, feature_level_height = 2)\n",
    "    \n",
    "    ax, plo= record.plot(figure_width=15, figure_height=3);\n",
    "    \n",
    "    svg_pic = StringIO()\n",
    "    \n",
    "    ax.figure.savefig(svg_pic, format=\"svg\", bbox_inches='tight')\n",
    "    \n",
    "    print(self.name)\n",
    "    return svg_pic.getvalue()\n",
    "\n",
    "self = 5\n",
    "plot_gen_diagram(self, id_org=84)  "
   ]
  },
  {
   "cell_type": "code",
   "execution_count": null,
   "metadata": {},
   "outputs": [],
   "source": []
  },
  {
   "cell_type": "code",
   "execution_count": 39,
   "metadata": {},
   "outputs": [
    {
     "name": "stdout",
     "output_type": "stream",
     "text": [
      "max 25519.78\n",
      "MFS40622_RS06240_fs_MFS40622_RS06245 [{'len': 1225180.0689833532, 'start': 47.931016646695234, 'end': 48.010915454600315, 'loc': 47.970966050647775, 'label': 'chlD', 'strand': 1, 'type': 'gene'}]\n",
      "MFS40622_RS06250 [{'len': 1229068.9811691167, 'start': 48.01883088333834, 'end': 48.16330705045263, 'loc': 48.091068966895484, 'label': 'cobN', 'strand': -1, 'type': 'gene'}]\n",
      "MFS40622_RS06440 [{'len': 1275939.1393037087, 'start': 49.86069629126897, 'end': 50.0, 'loc': 49.93034814563449, 'label': 'chlH', 'strand': 1, 'type': 'gene'}]\n",
      "MFS40622_RS03055 [{'len': 608945.2773817015, 'start': 23.72261829843361, 'end': 23.86262734239872, 'loc': 23.792622820416163, 'label': 'cobN', 'strand': -1, 'type': 'gene'}]\n",
      "NC_010002.1:6395696:-1 [{'len': 0.07178745271315035, 'start': 250.59020884976283, 'end': 250.66199630247598, 'loc': 250.6261025761194, 'type': 'fsh'}]\n"
     ]
    },
    {
     "data": {
      "image/png": "[encoded data removed]",
      "text/plain": [
       "<Figure size 1080x216 with 1 Axes>"
      ]
     },
     "metadata": {},
     "output_type": "display_data"
    }
   ],
   "source": [
    "features = []\n",
    "def get_color(gene):\n",
    "    if 'chl' in gene: return '#ffcccc'\n",
    "    else: return \"#ccccff\"\n",
    "for k, v in dict_plot.items():\n",
    "    print(k,v)\n",
    "    if k !='max' and dict_plot[k][0]['type']=='gene':\n",
    "        features.append(\n",
    "            GraphicFeature(start=dict_plot[k][0]['loc'],\n",
    "                       end=dict_plot[k][0]['loc'],\n",
    "                       strand=dict_plot[k][0]['strand'],\n",
    "                       color= \"#ccccff\", label=k)) #Табличка\n",
    "        features.append(GraphicFeature(start=dict_plot[k][0]['start']-2,\n",
    "                       end=dict_plot[k][0]['end']+2,\n",
    "                       strand=dict_plot[k][0]['strand'],\n",
    "                       color= get_color(dict_plot[k][0]['label']),\n",
    "                       thickness=17,\n",
    "                       label=dict_plot[k][0]['label']))\n",
    "        \n",
    "\n",
    "        \n",
    "record = GraphicRecord(first_index=0.0, sequence_length=55.0, features = features, feature_level_height = 2,)\n",
    "\n",
    "#record.plot_with_bokeh(figure_width=15, figure_height=3)\n",
    "#record.plot()\n",
    "record.plot(figure_width=15, figure_height=3);\n",
    " "
   ]
  },
  {
   "cell_type": "code",
   "execution_count": 37,
   "metadata": {},
   "outputs": [
    {
     "data": {
      "image/png": "[encoded data removed]",
      "text/plain": [
       "<Figure size 1080x216 with 1 Axes>"
      ]
     },
     "metadata": {},
     "output_type": "display_data"
    }
   ],
   "source": [
    " "
   ]
  },
  {
   "cell_type": "code",
   "execution_count": null,
   "metadata": {},
   "outputs": [],
   "source": []
  },
  {
   "cell_type": "code",
   "execution_count": 17,
   "metadata": {},
   "outputs": [],
   "source": [
    "# from chelatase_db.models import ChelataseFeat\n",
    "\n",
    "# ch_set = ChelataseFeat.objects.filter(seq__org=86, param_set__name='chel_subunit').all()\n",
    "\n",
    "# all_parents = [i.parent_id for i in ch_set if i.parent_id is not None]\n",
    "\n",
    "# ch_set_draw = [i for i in ch_set if i.id not in all_parents]\n",
    "\n",
    "# ch_set_draw[0].prm.chel_gene"
   ]
  },
  {
   "cell_type": "code",
   "execution_count": null,
   "metadata": {},
   "outputs": [],
   "source": [
    " "
   ]
  },
  {
   "cell_type": "markdown",
   "metadata": {},
   "source": [
    "# "
   ]
  },
  {
   "cell_type": "markdown",
   "metadata": {},
   "source": [
    "# Построение визуализации"
   ]
  },
  {
   "cell_type": "code",
   "execution_count": null,
   "metadata": {},
   "outputs": [],
   "source": []
  },
  {
   "cell_type": "code",
   "execution_count": 223,
   "metadata": {},
   "outputs": [
    {
     "data": {
      "image/png": "[encoded data removed]",
      "text/plain": [
       "<Figure size 1080x216 with 1 Axes>"
      ]
     },
     "metadata": {},
     "output_type": "display_data"
    }
   ],
   "source": [
    "\n",
    "from dna_features_viewer import GraphicFeature, GraphicRecord\n",
    "\n",
    "features=[\n",
    "    GraphicFeature(start=80, end=80, strand=0, color= \"#ccccff\", label=\"DACI_RS09960\"), #Табличка\n",
    "    GraphicFeature(start=50, end=120, strand=+1, color= \"#ccccff\",thickness=17, label=\"cobS\"),    \n",
    "    \n",
    "\n",
    "    GraphicFeature(start=200, end=200, strand=0, color= \"#ccccff\", label=\"DACI_RS29040\"), #Табличка\n",
    "    GraphicFeature(start=150, end=270, strand=+1, color= \"#ccccff\", label=\"cobT\"),    \n",
    "    \n",
    "\n",
    "    GraphicFeature(start=325, end=328, strand=0, color=\"#ffd700\"),\n",
    "    GraphicFeature(start=330, end=330, strand=0, color=\"#ffd700\", label=\"about 4M \\n nucleotides\"),\n",
    "    GraphicFeature(start=332, end=335, strand=0, color=\"#ffd700\"),\n",
    "\n",
    "\n",
    "    GraphicFeature(start=440, end=442, strand=0, color=\"#cffccc\", label=\"DACI_RS29040\\n DACI_RS29035\"), #Табличка\n",
    "    GraphicFeature(start=380, thickness=14, end=440, strand=-1, color=\"#cffccc\", label=\"chlD\"),\n",
    "    GraphicFeature(start=442, end=448, strand=0, color=\"#ffcccc\"),  \n",
    "    GraphicFeature(start=448, thickness=14, end=490, strand=0, color=\"#cffccc\"),    \n",
    "    \n",
    "    \n",
    "    \n",
    "    \n",
    "    GraphicFeature(start=570, end=570, strand=0, color=\"#cffccc\" , label=\"DACI_RS29045\"),    #Табличка\n",
    "    GraphicFeature(start=490, end=640, strand=-1, color=\"#cffccc\", label=\"cobN\"),  #ffcccc  #Правый ген\n",
    "    \n",
    "]\n",
    "record = GraphicRecord(sequence_length=700, features = features,feature_level_height = 2)\n",
    "\n",
    "#record.plot_with_bokeh(figure_width=15, figure_height=3)\n",
    "#record.plot()\n",
    "record.plot(figure_width=15, figure_height=3);\n",
    " "
   ]
  },
  {
   "cell_type": "code",
   "execution_count": null,
   "metadata": {},
   "outputs": [],
   "source": [
    " "
   ]
  },
  {
   "cell_type": "code",
   "execution_count": 5,
   "metadata": {},
   "outputs": [
    {
     "ename": "SyntaxError",
     "evalue": "invalid syntax (<ipython-input-5-cc434716a3f6>, line 1)",
     "output_type": "error",
     "traceback": [
      "\u001b[0;36m  File \u001b[0;32m\"<ipython-input-5-cc434716a3f6>\"\u001b[0;36m, line \u001b[0;32m1\u001b[0m\n\u001b[0;31m    select name, evalue_cobN, evalue_cobT from chel_orgs_v limit 1;\u001b[0m\n\u001b[0m           ^\u001b[0m\n\u001b[0;31mSyntaxError\u001b[0m\u001b[0;31m:\u001b[0m invalid syntax\n"
     ]
    }
   ],
   "source": [
    "select name, evalue_cobN, evalue_cobT from chel_orgs_v limit 1;"
   ]
  },
  {
   "cell_type": "code",
   "execution_count": null,
   "metadata": {},
   "outputs": [],
   "source": [
    "data = #"
   ]
  },
  {
   "cell_type": "code",
   "execution_count": null,
   "metadata": {},
   "outputs": [],
   "source": []
  }
 ],
 "metadata": {
  "kernelspec": {
   "display_name": "Django Shell-Plus",
   "language": "python",
   "name": "django_extensions"
  },
  "language_info": {
   "codemirror_mode": {
    "name": "ipython",
    "version": 3
   },
   "file_extension": ".py",
   "mimetype": "text/x-python",
   "name": "python",
   "nbconvert_exporter": "python",
   "pygments_lexer": "ipython3",
   "version": "3.8.5"
  },
  "toc": {
   "base_numbering": 1,
   "nav_menu": {},
   "number_sections": true,
   "sideBar": true,
   "skip_h1_title": false,
   "title_cell": "Table of Contents",
   "title_sidebar": "Contents",
   "toc_cell": false,
   "toc_position": {},
   "toc_section_display": true,
   "toc_window_display": false
  }
 },
 "nbformat": 4,
 "nbformat_minor": 4
}
